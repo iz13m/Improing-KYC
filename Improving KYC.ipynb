{
 "cells": [
  {
   "cell_type": "markdown",
   "id": "cross-marketplace",
   "metadata": {},
   "source": [
    "# Introduction\n",
    "\n",
    "\n",
    "\n"
   ]
  },
  {
   "cell_type": "markdown",
   "id": "accepted-rebecca",
   "metadata": {},
   "source": [
    "#### About the project:\n",
    "As a financial institution regulated by the FCA, Revolut has the obligation to verify the identity of all customers who want to open a bank account. Each prospective customer has to go through a Know Your Customer (KYC) process by submitting a government-issued photo ID and a facial picture of themself to our partner, Veritas. Veritas then would perform 2 checks:\n",
    "\n",
    "- Document check: To verify that the photo ID is valid and authentic;\n",
    "- Facial Similarity check: To verify that the face in the picture is the same with that on the submitted ID.\n",
    "\n",
    "The customer will ‘pass’ the KYC process and get onboarded if the results of both Document and Facial Similarity checks are ‘clear’. If the result of any check is not ‘clear’, the customer has to submit all the photos again.\n",
    "\n",
    "The “pass rate” is defined as the number of customers who pass both the KYC process divided by the number of customers who attempt the process. Each customer has up to 2 attempts.\n",
    "The pass rate has decreased substantially in the recent period."
   ]
  },
  {
   "cell_type": "markdown",
   "id": "imperial-stevens",
   "metadata": {},
   "source": [
    "#### Ananlysis workflow:\n",
    "- CSV file provided has ≈175k rows of data which makes it difficult to conduct any sort of analysis on Excel due to the program constantly crashing and the incredibly long processing time\n",
    "- First, check if problem is there in a single report or both of them by understanding what the pass rate is and the degree to which the pass rate has fallen over the last few months using the “created_at” column.\n",
    "- Each variable can then be evaluated to understand if the # of “Clears” per attempt decreases over time\n",
    "- Depending on the outcome of this search, the variables that show a significant decrease in the # of “Clears” will be analysed in further detail\n",
    "- Following that step, the “Properties” column will be separated into five columns: Gender, Nationality, Document Type, Date of Expiry and Issuing Country\n",
    "- A correlation analysis will be conducted with each of these variables and the pass column to understand if there is any link between the two and identify the properties with the lowest pass rates\n",
    "- It could be that specific document types are more prone to failing the checks for example, it could be that a passport from Ireland fails more often as the text on the passport is less clear or uses a font that makes it more difficult for the Veritas software to read\n",
    "- To build the report, the data would need to be played around with to get to the root cause, which will ultimately be core to providing a recommended solution"
   ]
  },
  {
   "cell_type": "code",
   "execution_count": 15,
   "id": "daily-marathon",
   "metadata": {},
   "outputs": [],
   "source": [
    "# Importing necessary packages .. \n",
    "import pandas as pd\n",
    "import numpy as np\n",
    "import matplotlib.pyplot as plt\n",
    "import seaborn as sns\n",
    "%matplotlib inline\n",
    "\n",
    "# Setting up plotting prefrences ..\n",
    "sns.color_palette(\"Set2\")\n",
    "sns.set_style('whitegrid')"
   ]
  },
  {
   "cell_type": "code",
   "execution_count": 2,
   "id": "still-linux",
   "metadata": {},
   "outputs": [],
   "source": [
    "# Importing CSV files\n",
    "df_face = pd.read_csv('facial_similarity_reports.csv')\n",
    "df_doc = pd.read_csv('doc_reports.csv')"
   ]
  },
  {
   "cell_type": "markdown",
   "id": "pending-perfume",
   "metadata": {},
   "source": [
    "# Data Assessing"
   ]
  },
  {
   "cell_type": "markdown",
   "id": "terminal-johnson",
   "metadata": {},
   "source": [
    "## Document Reports"
   ]
  },
  {
   "cell_type": "code",
   "execution_count": 3,
   "id": "rural-hotel",
   "metadata": {
    "scrolled": true
   },
   "outputs": [
    {
     "data": {
      "text/html": [
       "<div>\n",
       "<style scoped>\n",
       "    .dataframe tbody tr th:only-of-type {\n",
       "        vertical-align: middle;\n",
       "    }\n",
       "\n",
       "    .dataframe tbody tr th {\n",
       "        vertical-align: top;\n",
       "    }\n",
       "\n",
       "    .dataframe thead th {\n",
       "        text-align: right;\n",
       "    }\n",
       "</style>\n",
       "<table border=\"1\" class=\"dataframe\">\n",
       "  <thead>\n",
       "    <tr style=\"text-align: right;\">\n",
       "      <th></th>\n",
       "      <th>user_id</th>\n",
       "      <th>result</th>\n",
       "      <th>visual_authenticity_result</th>\n",
       "      <th>image_integrity_result</th>\n",
       "      <th>face_detection_result</th>\n",
       "      <th>image_quality_result</th>\n",
       "      <th>created_at</th>\n",
       "      <th>supported_document_result</th>\n",
       "      <th>conclusive_document_quality_result</th>\n",
       "      <th>colour_picture_result</th>\n",
       "      <th>data_validation_result</th>\n",
       "      <th>data_consistency_result</th>\n",
       "      <th>data_comparison_result</th>\n",
       "      <th>attempt_id</th>\n",
       "      <th>police_record_result</th>\n",
       "      <th>compromised_document_result</th>\n",
       "      <th>properties</th>\n",
       "      <th>sub_result</th>\n",
       "    </tr>\n",
       "  </thead>\n",
       "  <tbody>\n",
       "    <tr>\n",
       "      <th>0</th>\n",
       "      <td>ab23fae164e34af0a1ad1423ce9fd9f0</td>\n",
       "      <td>consider</td>\n",
       "      <td>consider</td>\n",
       "      <td>clear</td>\n",
       "      <td>clear</td>\n",
       "      <td>clear</td>\n",
       "      <td>2017-06-20T23:12:57Z</td>\n",
       "      <td>clear</td>\n",
       "      <td>NaN</td>\n",
       "      <td>NaN</td>\n",
       "      <td>clear</td>\n",
       "      <td>clear</td>\n",
       "      <td>NaN</td>\n",
       "      <td>050a0596de424fab83c433eaa18b3f8d</td>\n",
       "      <td>clear</td>\n",
       "      <td>NaN</td>\n",
       "      <td>{'gender': 'Male', 'nationality': 'IRL', 'docu...</td>\n",
       "      <td>caution</td>\n",
       "    </tr>\n",
       "    <tr>\n",
       "      <th>1</th>\n",
       "      <td>15a84e8951254011b47412fa4e8f65b8</td>\n",
       "      <td>clear</td>\n",
       "      <td>clear</td>\n",
       "      <td>clear</td>\n",
       "      <td>clear</td>\n",
       "      <td>clear</td>\n",
       "      <td>2017-06-20T23:16:04Z</td>\n",
       "      <td>clear</td>\n",
       "      <td>NaN</td>\n",
       "      <td>NaN</td>\n",
       "      <td>clear</td>\n",
       "      <td>NaN</td>\n",
       "      <td>NaN</td>\n",
       "      <td>f69c1e5f45a64e50a26740b9bfb978b7</td>\n",
       "      <td>clear</td>\n",
       "      <td>NaN</td>\n",
       "      <td>{'gender': 'Female', 'document_type': 'driving...</td>\n",
       "      <td>clear</td>\n",
       "    </tr>\n",
       "    <tr>\n",
       "      <th>2</th>\n",
       "      <td>ffb82fda52b041e4b9af9cb4ef298c85</td>\n",
       "      <td>clear</td>\n",
       "      <td>clear</td>\n",
       "      <td>clear</td>\n",
       "      <td>clear</td>\n",
       "      <td>clear</td>\n",
       "      <td>2017-06-20T17:59:49Z</td>\n",
       "      <td>clear</td>\n",
       "      <td>NaN</td>\n",
       "      <td>NaN</td>\n",
       "      <td>clear</td>\n",
       "      <td>clear</td>\n",
       "      <td>NaN</td>\n",
       "      <td>f9f84f3055714d8e8f7419dc984d1769</td>\n",
       "      <td>clear</td>\n",
       "      <td>NaN</td>\n",
       "      <td>{'gender': 'Male', 'nationality': 'ITA', 'docu...</td>\n",
       "      <td>clear</td>\n",
       "    </tr>\n",
       "    <tr>\n",
       "      <th>3</th>\n",
       "      <td>bd4a8b3e3601427e88aa1d9eab9f4290</td>\n",
       "      <td>clear</td>\n",
       "      <td>clear</td>\n",
       "      <td>clear</td>\n",
       "      <td>clear</td>\n",
       "      <td>clear</td>\n",
       "      <td>2017-06-20T17:59:38Z</td>\n",
       "      <td>clear</td>\n",
       "      <td>NaN</td>\n",
       "      <td>NaN</td>\n",
       "      <td>clear</td>\n",
       "      <td>clear</td>\n",
       "      <td>NaN</td>\n",
       "      <td>10a54a1ecf794404be959e030f11fef6</td>\n",
       "      <td>clear</td>\n",
       "      <td>NaN</td>\n",
       "      <td>{'gender': 'Male', 'issuing_date': '2007-08', ...</td>\n",
       "      <td>clear</td>\n",
       "    </tr>\n",
       "    <tr>\n",
       "      <th>4</th>\n",
       "      <td>f52ad1c7e69543a9940c3e7f8ed28a39</td>\n",
       "      <td>clear</td>\n",
       "      <td>clear</td>\n",
       "      <td>clear</td>\n",
       "      <td>clear</td>\n",
       "      <td>clear</td>\n",
       "      <td>2017-06-20T18:08:09Z</td>\n",
       "      <td>clear</td>\n",
       "      <td>NaN</td>\n",
       "      <td>NaN</td>\n",
       "      <td>clear</td>\n",
       "      <td>clear</td>\n",
       "      <td>NaN</td>\n",
       "      <td>1f320d1d07de493292b7e0d5ebfb1cb9</td>\n",
       "      <td>clear</td>\n",
       "      <td>NaN</td>\n",
       "      <td>{'gender': 'Male', 'nationality': 'POL', 'docu...</td>\n",
       "      <td>clear</td>\n",
       "    </tr>\n",
       "  </tbody>\n",
       "</table>\n",
       "</div>"
      ],
      "text/plain": [
       "                            user_id    result visual_authenticity_result  \\\n",
       "0  ab23fae164e34af0a1ad1423ce9fd9f0  consider                   consider   \n",
       "1  15a84e8951254011b47412fa4e8f65b8     clear                      clear   \n",
       "2  ffb82fda52b041e4b9af9cb4ef298c85     clear                      clear   \n",
       "3  bd4a8b3e3601427e88aa1d9eab9f4290     clear                      clear   \n",
       "4  f52ad1c7e69543a9940c3e7f8ed28a39     clear                      clear   \n",
       "\n",
       "  image_integrity_result face_detection_result image_quality_result  \\\n",
       "0                  clear                 clear                clear   \n",
       "1                  clear                 clear                clear   \n",
       "2                  clear                 clear                clear   \n",
       "3                  clear                 clear                clear   \n",
       "4                  clear                 clear                clear   \n",
       "\n",
       "             created_at supported_document_result  \\\n",
       "0  2017-06-20T23:12:57Z                     clear   \n",
       "1  2017-06-20T23:16:04Z                     clear   \n",
       "2  2017-06-20T17:59:49Z                     clear   \n",
       "3  2017-06-20T17:59:38Z                     clear   \n",
       "4  2017-06-20T18:08:09Z                     clear   \n",
       "\n",
       "  conclusive_document_quality_result colour_picture_result  \\\n",
       "0                                NaN                   NaN   \n",
       "1                                NaN                   NaN   \n",
       "2                                NaN                   NaN   \n",
       "3                                NaN                   NaN   \n",
       "4                                NaN                   NaN   \n",
       "\n",
       "  data_validation_result data_consistency_result data_comparison_result  \\\n",
       "0                  clear                   clear                    NaN   \n",
       "1                  clear                     NaN                    NaN   \n",
       "2                  clear                   clear                    NaN   \n",
       "3                  clear                   clear                    NaN   \n",
       "4                  clear                   clear                    NaN   \n",
       "\n",
       "                         attempt_id police_record_result  \\\n",
       "0  050a0596de424fab83c433eaa18b3f8d                clear   \n",
       "1  f69c1e5f45a64e50a26740b9bfb978b7                clear   \n",
       "2  f9f84f3055714d8e8f7419dc984d1769                clear   \n",
       "3  10a54a1ecf794404be959e030f11fef6                clear   \n",
       "4  1f320d1d07de493292b7e0d5ebfb1cb9                clear   \n",
       "\n",
       "  compromised_document_result  \\\n",
       "0                         NaN   \n",
       "1                         NaN   \n",
       "2                         NaN   \n",
       "3                         NaN   \n",
       "4                         NaN   \n",
       "\n",
       "                                          properties sub_result  \n",
       "0  {'gender': 'Male', 'nationality': 'IRL', 'docu...    caution  \n",
       "1  {'gender': 'Female', 'document_type': 'driving...      clear  \n",
       "2  {'gender': 'Male', 'nationality': 'ITA', 'docu...      clear  \n",
       "3  {'gender': 'Male', 'issuing_date': '2007-08', ...      clear  \n",
       "4  {'gender': 'Male', 'nationality': 'POL', 'docu...      clear  "
      ]
     },
     "execution_count": 3,
     "metadata": {},
     "output_type": "execute_result"
    }
   ],
   "source": [
    "# Assessing the data set\n",
    "df_doc.head()"
   ]
  },
  {
   "cell_type": "code",
   "execution_count": 4,
   "id": "regular-trader",
   "metadata": {},
   "outputs": [
    {
     "data": {
      "text/plain": [
       "(176404, 18)"
      ]
     },
     "execution_count": 4,
     "metadata": {},
     "output_type": "execute_result"
    }
   ],
   "source": [
    "df_doc.shape"
   ]
  },
  {
   "cell_type": "code",
   "execution_count": 5,
   "id": "medical-perspective",
   "metadata": {
    "scrolled": false
   },
   "outputs": [
    {
     "name": "stdout",
     "output_type": "stream",
     "text": [
      "<class 'pandas.core.frame.DataFrame'>\n",
      "RangeIndex: 176404 entries, 0 to 176403\n",
      "Data columns (total 18 columns):\n",
      " #   Column                              Non-Null Count   Dtype \n",
      "---  ------                              --------------   ----- \n",
      " 0   user_id                             176404 non-null  object\n",
      " 1   result                              176404 non-null  object\n",
      " 2   visual_authenticity_result          150290 non-null  object\n",
      " 3   image_integrity_result              176403 non-null  object\n",
      " 4   face_detection_result               150261 non-null  object\n",
      " 5   image_quality_result                176403 non-null  object\n",
      " 6   created_at                          176404 non-null  object\n",
      " 7   supported_document_result           175900 non-null  object\n",
      " 8   conclusive_document_quality_result  95217 non-null   object\n",
      " 9   colour_picture_result               95222 non-null   object\n",
      " 10  data_validation_result              142974 non-null  object\n",
      " 11  data_consistency_result             92229 non-null   object\n",
      " 12  data_comparison_result              2548 non-null    object\n",
      " 13  attempt_id                          176404 non-null  object\n",
      " 14  police_record_result                144557 non-null  object\n",
      " 15  compromised_document_result         45506 non-null   object\n",
      " 16  properties                          176404 non-null  object\n",
      " 17  sub_result                          176404 non-null  object\n",
      "dtypes: object(18)\n",
      "memory usage: 24.2+ MB\n"
     ]
    }
   ],
   "source": [
    "df_doc.info()"
   ]
  },
  {
   "cell_type": "code",
   "execution_count": 6,
   "id": "excess-kitty",
   "metadata": {},
   "outputs": [],
   "source": [
    "# Converting the created_at column to DateTime Object\n",
    "df_doc.created_at = pd.to_datetime(df_doc.created_at)"
   ]
  },
  {
   "cell_type": "code",
   "execution_count": 8,
   "id": "excessive-variance",
   "metadata": {},
   "outputs": [
    {
     "data": {
      "image/png": "[encoded data removed]",
      "text/plain": [
       "<Figure size 720x432 with 1 Axes>"
      ]
     },
     "metadata": {},
     "output_type": "display_data"
    }
   ],
   "source": [
    "plt.figure(figsize=(10,6))\n",
    "sns.kdeplot('created_at',hue='result',palette = ['r','g'],shade = True,data=df_doc);\n",
    "plt.title('Results over time in the Documents Report',fontsize=25,pad= 20);\n",
    "plt.legend(labels = ['pass',\"don't pass\"], fontsize='large', loc=2);"
   ]
  },
  {
   "cell_type": "markdown",
   "id": "visible-harbor",
   "metadata": {},
   "source": [
    ">#### Conclusion: There is a significant uptrend in the consideration results that appeared between 9/2017 and 10/2017."
   ]
  },
  {
   "cell_type": "markdown",
   "id": "confidential-locking",
   "metadata": {},
   "source": [
    "## Facial Similarity Report"
   ]
  },
  {
   "cell_type": "code",
   "execution_count": 9,
   "id": "integral-smell",
   "metadata": {
    "scrolled": true
   },
   "outputs": [
    {
     "data": {
      "text/html": [
       "<div>\n",
       "<style scoped>\n",
       "    .dataframe tbody tr th:only-of-type {\n",
       "        vertical-align: middle;\n",
       "    }\n",
       "\n",
       "    .dataframe tbody tr th {\n",
       "        vertical-align: top;\n",
       "    }\n",
       "\n",
       "    .dataframe thead th {\n",
       "        text-align: right;\n",
       "    }\n",
       "</style>\n",
       "<table border=\"1\" class=\"dataframe\">\n",
       "  <thead>\n",
       "    <tr style=\"text-align: right;\">\n",
       "      <th></th>\n",
       "      <th>user_id</th>\n",
       "      <th>result</th>\n",
       "      <th>face_comparison_result</th>\n",
       "      <th>created_at</th>\n",
       "      <th>facial_image_integrity_result</th>\n",
       "      <th>visual_authenticity_result</th>\n",
       "      <th>properties</th>\n",
       "      <th>attempt_id</th>\n",
       "    </tr>\n",
       "  </thead>\n",
       "  <tbody>\n",
       "    <tr>\n",
       "      <th>0</th>\n",
       "      <td>ab23fae164e34af0a1ad1423ce9fd9f0</td>\n",
       "      <td>clear</td>\n",
       "      <td>clear</td>\n",
       "      <td>2017-06-20T23:12:58Z</td>\n",
       "      <td>clear</td>\n",
       "      <td>consider</td>\n",
       "      <td>{}</td>\n",
       "      <td>050a0596de424fab83c433eaa18b3f8d</td>\n",
       "    </tr>\n",
       "    <tr>\n",
       "      <th>1</th>\n",
       "      <td>15a84e8951254011b47412fa4e8f65b8</td>\n",
       "      <td>clear</td>\n",
       "      <td>clear</td>\n",
       "      <td>2017-06-20T23:16:04Z</td>\n",
       "      <td>clear</td>\n",
       "      <td>clear</td>\n",
       "      <td>{}</td>\n",
       "      <td>f69c1e5f45a64e50a26740b9bfb978b7</td>\n",
       "    </tr>\n",
       "    <tr>\n",
       "      <th>2</th>\n",
       "      <td>ffb82fda52b041e4b9af9cb4ef298c85</td>\n",
       "      <td>clear</td>\n",
       "      <td>clear</td>\n",
       "      <td>2017-06-20T17:59:49Z</td>\n",
       "      <td>clear</td>\n",
       "      <td>clear</td>\n",
       "      <td>{}</td>\n",
       "      <td>f9f84f3055714d8e8f7419dc984d1769</td>\n",
       "    </tr>\n",
       "    <tr>\n",
       "      <th>3</th>\n",
       "      <td>bd4a8b3e3601427e88aa1d9eab9f4290</td>\n",
       "      <td>clear</td>\n",
       "      <td>clear</td>\n",
       "      <td>2017-06-20T17:59:39Z</td>\n",
       "      <td>clear</td>\n",
       "      <td>clear</td>\n",
       "      <td>{}</td>\n",
       "      <td>10a54a1ecf794404be959e030f11fef6</td>\n",
       "    </tr>\n",
       "    <tr>\n",
       "      <th>4</th>\n",
       "      <td>f52ad1c7e69543a9940c3e7f8ed28a39</td>\n",
       "      <td>clear</td>\n",
       "      <td>clear</td>\n",
       "      <td>2017-06-20T18:08:09Z</td>\n",
       "      <td>clear</td>\n",
       "      <td>clear</td>\n",
       "      <td>{}</td>\n",
       "      <td>1f320d1d07de493292b7e0d5ebfb1cb9</td>\n",
       "    </tr>\n",
       "  </tbody>\n",
       "</table>\n",
       "</div>"
      ],
      "text/plain": [
       "                            user_id result face_comparison_result  \\\n",
       "0  ab23fae164e34af0a1ad1423ce9fd9f0  clear                  clear   \n",
       "1  15a84e8951254011b47412fa4e8f65b8  clear                  clear   \n",
       "2  ffb82fda52b041e4b9af9cb4ef298c85  clear                  clear   \n",
       "3  bd4a8b3e3601427e88aa1d9eab9f4290  clear                  clear   \n",
       "4  f52ad1c7e69543a9940c3e7f8ed28a39  clear                  clear   \n",
       "\n",
       "             created_at facial_image_integrity_result  \\\n",
       "0  2017-06-20T23:12:58Z                         clear   \n",
       "1  2017-06-20T23:16:04Z                         clear   \n",
       "2  2017-06-20T17:59:49Z                         clear   \n",
       "3  2017-06-20T17:59:39Z                         clear   \n",
       "4  2017-06-20T18:08:09Z                         clear   \n",
       "\n",
       "  visual_authenticity_result properties                        attempt_id  \n",
       "0                   consider         {}  050a0596de424fab83c433eaa18b3f8d  \n",
       "1                      clear         {}  f69c1e5f45a64e50a26740b9bfb978b7  \n",
       "2                      clear         {}  f9f84f3055714d8e8f7419dc984d1769  \n",
       "3                      clear         {}  10a54a1ecf794404be959e030f11fef6  \n",
       "4                      clear         {}  1f320d1d07de493292b7e0d5ebfb1cb9  "
      ]
     },
     "execution_count": 9,
     "metadata": {},
     "output_type": "execute_result"
    }
   ],
   "source": [
    "# Assessing the data set\n",
    "df_face.head()"
   ]
  },
  {
   "cell_type": "code",
   "execution_count": 10,
   "id": "advised-phenomenon",
   "metadata": {
    "scrolled": true
   },
   "outputs": [
    {
     "data": {
      "text/plain": [
       "(176404, 8)"
      ]
     },
     "execution_count": 10,
     "metadata": {},
     "output_type": "execute_result"
    }
   ],
   "source": [
    "df_face.shape"
   ]
  },
  {
   "cell_type": "code",
   "execution_count": 11,
   "id": "subject-alfred",
   "metadata": {
    "scrolled": false
   },
   "outputs": [
    {
     "name": "stdout",
     "output_type": "stream",
     "text": [
      "<class 'pandas.core.frame.DataFrame'>\n",
      "RangeIndex: 176404 entries, 0 to 176403\n",
      "Data columns (total 8 columns):\n",
      " #   Column                         Non-Null Count   Dtype \n",
      "---  ------                         --------------   ----- \n",
      " 0   user_id                        176404 non-null  object\n",
      " 1   result                         176403 non-null  object\n",
      " 2   face_comparison_result         166007 non-null  object\n",
      " 3   created_at                     176404 non-null  object\n",
      " 4   facial_image_integrity_result  175941 non-null  object\n",
      " 5   visual_authenticity_result     150290 non-null  object\n",
      " 6   properties                     176404 non-null  object\n",
      " 7   attempt_id                     176404 non-null  object\n",
      "dtypes: object(8)\n",
      "memory usage: 10.8+ MB\n"
     ]
    }
   ],
   "source": [
    "df_face.info()"
   ]
  },
  {
   "cell_type": "code",
   "execution_count": 12,
   "id": "sublime-alfred",
   "metadata": {},
   "outputs": [],
   "source": [
    "# Converting the created_at column to DateTime Object\n",
    "df_face.created_at = pd.to_datetime(df_face.created_at)"
   ]
  },
  {
   "cell_type": "code",
   "execution_count": 14,
   "id": "becoming-crime",
   "metadata": {},
   "outputs": [
    {
     "data": {
      "image/png": "[encoded data removed]",
      "text/plain": [
       "<Figure size 720x432 with 1 Axes>"
      ]
     },
     "metadata": {},
     "output_type": "display_data"
    }
   ],
   "source": [
    "plt.figure(figsize=(10,6))\n",
    "sns.kdeplot('created_at',hue='result',palette = ['g','r'],shade = True,data=df_face);\n",
    "plt.title('Results over time in Facial Similarity Report',fontsize=25,pad= 20);\n",
    "plt.legend(labels = [\"don't pass\",'pass'], fontsize='large', loc=2);"
   ]
  },
  {
   "cell_type": "markdown",
   "id": "muslim-drinking",
   "metadata": {},
   "source": [
    "> #### Conclusion: It seems that every thing is fine here with no significant trends in the proportion of considerations"
   ]
  },
  {
   "cell_type": "markdown",
   "id": "trained-portable",
   "metadata": {},
   "source": [
    "> ### The problem is in the Documents Report not The Facial Similarity Report."
   ]
  },
  {
   "cell_type": "markdown",
   "id": "thorough-suffering",
   "metadata": {},
   "source": [
    "# Trying to figure out where is the problem"
   ]
  },
  {
   "cell_type": "code",
   "execution_count": 18,
   "id": "essential-inquiry",
   "metadata": {
    "scrolled": false
   },
   "outputs": [
    {
     "data": {
      "text/html": [
       "<div>\n",
       "<style scoped>\n",
       "    .dataframe tbody tr th:only-of-type {\n",
       "        vertical-align: middle;\n",
       "    }\n",
       "\n",
       "    .dataframe tbody tr th {\n",
       "        vertical-align: top;\n",
       "    }\n",
       "\n",
       "    .dataframe thead th {\n",
       "        text-align: right;\n",
       "    }\n",
       "</style>\n",
       "<table border=\"1\" class=\"dataframe\">\n",
       "  <thead>\n",
       "    <tr style=\"text-align: right;\">\n",
       "      <th></th>\n",
       "      <th>user_id</th>\n",
       "      <th>result</th>\n",
       "      <th>visual_authenticity_result</th>\n",
       "      <th>image_integrity_result</th>\n",
       "      <th>face_detection_result</th>\n",
       "      <th>image_quality_result</th>\n",
       "      <th>created_at</th>\n",
       "      <th>supported_document_result</th>\n",
       "      <th>conclusive_document_quality_result</th>\n",
       "      <th>colour_picture_result</th>\n",
       "      <th>data_validation_result</th>\n",
       "      <th>data_consistency_result</th>\n",
       "      <th>data_comparison_result</th>\n",
       "      <th>attempt_id</th>\n",
       "      <th>police_record_result</th>\n",
       "      <th>compromised_document_result</th>\n",
       "      <th>properties</th>\n",
       "      <th>sub_result</th>\n",
       "    </tr>\n",
       "  </thead>\n",
       "  <tbody>\n",
       "    <tr>\n",
       "      <th>74715</th>\n",
       "      <td>0a79e15bf33a44c3812a9eadf18cb04c</td>\n",
       "      <td>clear</td>\n",
       "      <td>clear</td>\n",
       "      <td>clear</td>\n",
       "      <td>clear</td>\n",
       "      <td>clear</td>\n",
       "      <td>2017-10-05 10:03:28+00:00</td>\n",
       "      <td>clear</td>\n",
       "      <td>clear</td>\n",
       "      <td>clear</td>\n",
       "      <td>clear</td>\n",
       "      <td>NaN</td>\n",
       "      <td>NaN</td>\n",
       "      <td>f84e46122e0d445b889477e0b034800b</td>\n",
       "      <td>clear</td>\n",
       "      <td>clear</td>\n",
       "      <td>{'gender': 'Male', 'issuing_date': '2017-08-16...</td>\n",
       "      <td>clear</td>\n",
       "    </tr>\n",
       "    <tr>\n",
       "      <th>160452</th>\n",
       "      <td>95f70f930ec94d65bcb6402147133788</td>\n",
       "      <td>clear</td>\n",
       "      <td>clear</td>\n",
       "      <td>clear</td>\n",
       "      <td>clear</td>\n",
       "      <td>clear</td>\n",
       "      <td>2017-07-20 20:53:03+00:00</td>\n",
       "      <td>clear</td>\n",
       "      <td>NaN</td>\n",
       "      <td>NaN</td>\n",
       "      <td>clear</td>\n",
       "      <td>clear</td>\n",
       "      <td>NaN</td>\n",
       "      <td>8381e1403f284c358b2b7e4d689103c1</td>\n",
       "      <td>clear</td>\n",
       "      <td>NaN</td>\n",
       "      <td>{'gender': 'Male', 'nationality': 'ESP', 'docu...</td>\n",
       "      <td>clear</td>\n",
       "    </tr>\n",
       "    <tr>\n",
       "      <th>12826</th>\n",
       "      <td>9217c4c769fa456a93cdda2c1f197f17</td>\n",
       "      <td>clear</td>\n",
       "      <td>clear</td>\n",
       "      <td>clear</td>\n",
       "      <td>clear</td>\n",
       "      <td>clear</td>\n",
       "      <td>2017-10-12 17:59:12+00:00</td>\n",
       "      <td>clear</td>\n",
       "      <td>clear</td>\n",
       "      <td>clear</td>\n",
       "      <td>clear</td>\n",
       "      <td>clear</td>\n",
       "      <td>NaN</td>\n",
       "      <td>a2631f3925e94dd0a244ff63f1f1a00a</td>\n",
       "      <td>clear</td>\n",
       "      <td>clear</td>\n",
       "      <td>{'gender': 'Female', 'nationality': 'LTU', 'do...</td>\n",
       "      <td>clear</td>\n",
       "    </tr>\n",
       "    <tr>\n",
       "      <th>102384</th>\n",
       "      <td>62242d573c4b4b93a183f1293a63caed</td>\n",
       "      <td>clear</td>\n",
       "      <td>clear</td>\n",
       "      <td>clear</td>\n",
       "      <td>clear</td>\n",
       "      <td>clear</td>\n",
       "      <td>2017-09-18 13:09:30+00:00</td>\n",
       "      <td>clear</td>\n",
       "      <td>clear</td>\n",
       "      <td>clear</td>\n",
       "      <td>clear</td>\n",
       "      <td>clear</td>\n",
       "      <td>NaN</td>\n",
       "      <td>2a356552411d4bc8843eea93365c309a</td>\n",
       "      <td>clear</td>\n",
       "      <td>NaN</td>\n",
       "      <td>{'gender': 'Male', 'nationality': 'GBR', 'docu...</td>\n",
       "      <td>clear</td>\n",
       "    </tr>\n",
       "    <tr>\n",
       "      <th>86886</th>\n",
       "      <td>9762b5985c45477ca0acddc98b84591f</td>\n",
       "      <td>clear</td>\n",
       "      <td>clear</td>\n",
       "      <td>clear</td>\n",
       "      <td>clear</td>\n",
       "      <td>clear</td>\n",
       "      <td>2017-09-29 15:54:54+00:00</td>\n",
       "      <td>clear</td>\n",
       "      <td>clear</td>\n",
       "      <td>clear</td>\n",
       "      <td>clear</td>\n",
       "      <td>clear</td>\n",
       "      <td>NaN</td>\n",
       "      <td>008a9d3bc3c6417fae08d96c86d7002d</td>\n",
       "      <td>clear</td>\n",
       "      <td>clear</td>\n",
       "      <td>{'gender': 'Male', 'nationality': 'POL', 'docu...</td>\n",
       "      <td>clear</td>\n",
       "    </tr>\n",
       "  </tbody>\n",
       "</table>\n",
       "</div>"
      ],
      "text/plain": [
       "                                 user_id result visual_authenticity_result  \\\n",
       "74715   0a79e15bf33a44c3812a9eadf18cb04c  clear                      clear   \n",
       "160452  95f70f930ec94d65bcb6402147133788  clear                      clear   \n",
       "12826   9217c4c769fa456a93cdda2c1f197f17  clear                      clear   \n",
       "102384  62242d573c4b4b93a183f1293a63caed  clear                      clear   \n",
       "86886   9762b5985c45477ca0acddc98b84591f  clear                      clear   \n",
       "\n",
       "       image_integrity_result face_detection_result image_quality_result  \\\n",
       "74715                   clear                 clear                clear   \n",
       "160452                  clear                 clear                clear   \n",
       "12826                   clear                 clear                clear   \n",
       "102384                  clear                 clear                clear   \n",
       "86886                   clear                 clear                clear   \n",
       "\n",
       "                      created_at supported_document_result  \\\n",
       "74715  2017-10-05 10:03:28+00:00                     clear   \n",
       "160452 2017-07-20 20:53:03+00:00                     clear   \n",
       "12826  2017-10-12 17:59:12+00:00                     clear   \n",
       "102384 2017-09-18 13:09:30+00:00                     clear   \n",
       "86886  2017-09-29 15:54:54+00:00                     clear   \n",
       "\n",
       "       conclusive_document_quality_result colour_picture_result  \\\n",
       "74715                               clear                 clear   \n",
       "160452                                NaN                   NaN   \n",
       "12826                               clear                 clear   \n",
       "102384                              clear                 clear   \n",
       "86886                               clear                 clear   \n",
       "\n",
       "       data_validation_result data_consistency_result data_comparison_result  \\\n",
       "74715                   clear                     NaN                    NaN   \n",
       "160452                  clear                   clear                    NaN   \n",
       "12826                   clear                   clear                    NaN   \n",
       "102384                  clear                   clear                    NaN   \n",
       "86886                   clear                   clear                    NaN   \n",
       "\n",
       "                              attempt_id police_record_result  \\\n",
       "74715   f84e46122e0d445b889477e0b034800b                clear   \n",
       "160452  8381e1403f284c358b2b7e4d689103c1                clear   \n",
       "12826   a2631f3925e94dd0a244ff63f1f1a00a                clear   \n",
       "102384  2a356552411d4bc8843eea93365c309a                clear   \n",
       "86886   008a9d3bc3c6417fae08d96c86d7002d                clear   \n",
       "\n",
       "       compromised_document_result  \\\n",
       "74715                        clear   \n",
       "160452                         NaN   \n",
       "12826                        clear   \n",
       "102384                         NaN   \n",
       "86886                        clear   \n",
       "\n",
       "                                               properties sub_result  \n",
       "74715   {'gender': 'Male', 'issuing_date': '2017-08-16...      clear  \n",
       "160452  {'gender': 'Male', 'nationality': 'ESP', 'docu...      clear  \n",
       "12826   {'gender': 'Female', 'nationality': 'LTU', 'do...      clear  \n",
       "102384  {'gender': 'Male', 'nationality': 'GBR', 'docu...      clear  \n",
       "86886   {'gender': 'Male', 'nationality': 'POL', 'docu...      clear  "
      ]
     },
     "execution_count": 18,
     "metadata": {},
     "output_type": "execute_result"
    }
   ],
   "source": [
    "df_doc.sample(5)"
   ]
  },
  {
   "cell_type": "markdown",
   "id": "unnecessary-watch",
   "metadata": {},
   "source": [
    "> After thorough visual assessing, it seems like all the rows with result value of 'consider' have sub_result values other than 'clear'"
   ]
  },
  {
   "cell_type": "code",
   "execution_count": 19,
   "id": "sealed-playing",
   "metadata": {},
   "outputs": [
    {
     "data": {
      "text/html": [
       "<div>\n",
       "<style scoped>\n",
       "    .dataframe tbody tr th:only-of-type {\n",
       "        vertical-align: middle;\n",
       "    }\n",
       "\n",
       "    .dataframe tbody tr th {\n",
       "        vertical-align: top;\n",
       "    }\n",
       "\n",
       "    .dataframe thead th {\n",
       "        text-align: right;\n",
       "    }\n",
       "</style>\n",
       "<table border=\"1\" class=\"dataframe\">\n",
       "  <thead>\n",
       "    <tr style=\"text-align: right;\">\n",
       "      <th></th>\n",
       "      <th>user_id</th>\n",
       "      <th>result</th>\n",
       "      <th>visual_authenticity_result</th>\n",
       "      <th>image_integrity_result</th>\n",
       "      <th>face_detection_result</th>\n",
       "      <th>image_quality_result</th>\n",
       "      <th>created_at</th>\n",
       "      <th>supported_document_result</th>\n",
       "      <th>conclusive_document_quality_result</th>\n",
       "      <th>colour_picture_result</th>\n",
       "      <th>data_validation_result</th>\n",
       "      <th>data_consistency_result</th>\n",
       "      <th>data_comparison_result</th>\n",
       "      <th>attempt_id</th>\n",
       "      <th>police_record_result</th>\n",
       "      <th>compromised_document_result</th>\n",
       "      <th>properties</th>\n",
       "      <th>sub_result</th>\n",
       "    </tr>\n",
       "  </thead>\n",
       "  <tbody>\n",
       "  </tbody>\n",
       "</table>\n",
       "</div>"
      ],
      "text/plain": [
       "Empty DataFrame\n",
       "Columns: [user_id, result, visual_authenticity_result, image_integrity_result, face_detection_result, image_quality_result, created_at, supported_document_result, conclusive_document_quality_result, colour_picture_result, data_validation_result, data_consistency_result, data_comparison_result, attempt_id, police_record_result, compromised_document_result, properties, sub_result]\n",
       "Index: []"
      ]
     },
     "execution_count": 19,
     "metadata": {},
     "output_type": "execute_result"
    }
   ],
   "source": [
    "# Testing if there is any clear results with non clear sub_results\n",
    "df_doc.query('result == \"clear\"').query('sub_result != \"clear\"')"
   ]
  },
  {
   "cell_type": "markdown",
   "id": "corresponding-foster",
   "metadata": {},
   "source": [
    "> Now we are sure that sub_result control the result column. Lets explore it much further!"
   ]
  },
  {
   "cell_type": "code",
   "execution_count": 91,
   "id": "compressed-easter",
   "metadata": {
    "scrolled": false
   },
   "outputs": [
    {
     "data": {
      "image/png": "[encoded data removed]",
      "text/plain": [
       "<Figure size 648x576 with 1 Axes>"
      ]
     },
     "metadata": {},
     "output_type": "display_data"
    }
   ],
   "source": [
    "# plotting the proportion of sub_results values over time\n",
    "plt.figure(figsize=(9,8))\n",
    "sns.kdeplot('created_at',hue='sub_result',shade = True,data=df_doc);\n",
    "plt.title('sub_result over time in the Documents Reports',fontsize=20, pad=20);\n",
    "plt.legend(labels = [\"Caution\",'Clear', 'Suspected', 'Rejected'], fontsize='x-large', loc=2);"
   ]
  },
  {
   "cell_type": "markdown",
   "id": "spatial-official",
   "metadata": {},
   "source": [
    ">- There are two uptrends in the proportion of the caution and rejected value\n",
    ">- The sum of these trends looks like the uptrend in the consideration result in the Document Report "
   ]
  },
  {
   "cell_type": "markdown",
   "id": "fluid-balloon",
   "metadata": {},
   "source": [
    "> Now, We have to figure out what is creating these caution and rejected values.."
   ]
  },
  {
   "cell_type": "markdown",
   "id": "according-breed",
   "metadata": {},
   "source": [
    "## Expanding the properties column"
   ]
  },
  {
   "cell_type": "code",
   "execution_count": 17,
   "id": "passive-exemption",
   "metadata": {},
   "outputs": [],
   "source": [
    "# Extracting properties informantion .. \n",
    "df_doc['gender'] = df_doc.properties.str.extract(\".*'gender': '(\\w+)', .*\")\n",
    "df_doc['gender'] = df_doc['gender'].str.lower()\n",
    "\n",
    "df_doc['nationality'] = df_doc.properties.str.extract(\".*'nationality': '(\\w+)', .*\")\n",
    "df_doc['nationality'] = df_doc['nationality'].str.upper()\n",
    "\n",
    "df_doc['document_type'] = df_doc.properties.str.extract(\".*'document_type': '(\\w+)', .*\")\n",
    "df_doc['document_type'] = df_doc['document_type'].str.lower()\n",
    "\n",
    "df_doc['date_of_expiry'] = df_doc.properties.str.extract(\".*'date_of_expiry': '(.{10})', .*\")\n",
    "\n",
    "df_doc['issuing_country'] = df_doc.properties.str.extract(\".*'issuing_country': '(\\w+)'.*\")\n",
    "df_doc['issuing_country'] = df_doc['issuing_country'].str.upper()\n",
    "\n",
    "# Convertting date_of_expiry into a datetime object\n",
    "df_doc['date_of_expiry'] = pd.to_datetime(df_doc['date_of_expiry'],errors='coerce')"
   ]
  },
  {
   "cell_type": "markdown",
   "id": "fantastic-wesley",
   "metadata": {},
   "source": [
    "# Figuring out what causes the rejections"
   ]
  },
  {
   "cell_type": "code",
   "execution_count": 18,
   "id": "postal-capture",
   "metadata": {},
   "outputs": [],
   "source": [
    "# Slicing the document report with only the data with sub_result of caution\n",
    "df = df_doc.query('sub_result == \"rejected\"')"
   ]
  },
  {
   "cell_type": "code",
   "execution_count": 19,
   "id": "collective-hungary",
   "metadata": {
    "scrolled": true
   },
   "outputs": [
    {
     "data": {
      "text/html": [
       "<div>\n",
       "<style scoped>\n",
       "    .dataframe tbody tr th:only-of-type {\n",
       "        vertical-align: middle;\n",
       "    }\n",
       "\n",
       "    .dataframe tbody tr th {\n",
       "        vertical-align: top;\n",
       "    }\n",
       "\n",
       "    .dataframe thead th {\n",
       "        text-align: right;\n",
       "    }\n",
       "</style>\n",
       "<table border=\"1\" class=\"dataframe\">\n",
       "  <thead>\n",
       "    <tr style=\"text-align: right;\">\n",
       "      <th></th>\n",
       "      <th>user_id</th>\n",
       "      <th>result</th>\n",
       "      <th>visual_authenticity_result</th>\n",
       "      <th>image_integrity_result</th>\n",
       "      <th>face_detection_result</th>\n",
       "      <th>image_quality_result</th>\n",
       "      <th>created_at</th>\n",
       "      <th>supported_document_result</th>\n",
       "      <th>conclusive_document_quality_result</th>\n",
       "      <th>colour_picture_result</th>\n",
       "      <th>...</th>\n",
       "      <th>attempt_id</th>\n",
       "      <th>police_record_result</th>\n",
       "      <th>compromised_document_result</th>\n",
       "      <th>properties</th>\n",
       "      <th>sub_result</th>\n",
       "      <th>gender</th>\n",
       "      <th>nationality</th>\n",
       "      <th>document_type</th>\n",
       "      <th>date_of_expiry</th>\n",
       "      <th>issuing_country</th>\n",
       "    </tr>\n",
       "  </thead>\n",
       "  <tbody>\n",
       "    <tr>\n",
       "      <th>39425</th>\n",
       "      <td>e002539d43564f32a16c5024822de51b</td>\n",
       "      <td>consider</td>\n",
       "      <td>NaN</td>\n",
       "      <td>consider</td>\n",
       "      <td>NaN</td>\n",
       "      <td>unidentified</td>\n",
       "      <td>2017-10-18 21:05:12+00:00</td>\n",
       "      <td>clear</td>\n",
       "      <td>NaN</td>\n",
       "      <td>NaN</td>\n",
       "      <td>...</td>\n",
       "      <td>700394ecc1574c8c96ba08f8f9c72ecd</td>\n",
       "      <td>NaN</td>\n",
       "      <td>NaN</td>\n",
       "      <td>{}</td>\n",
       "      <td>rejected</td>\n",
       "      <td>NaN</td>\n",
       "      <td>NaN</td>\n",
       "      <td>NaN</td>\n",
       "      <td>NaT</td>\n",
       "      <td>NaN</td>\n",
       "    </tr>\n",
       "    <tr>\n",
       "      <th>63901</th>\n",
       "      <td>fd8cac98b2274caab8dbfe441c0cb475</td>\n",
       "      <td>consider</td>\n",
       "      <td>NaN</td>\n",
       "      <td>consider</td>\n",
       "      <td>NaN</td>\n",
       "      <td>clear</td>\n",
       "      <td>2017-10-26 07:16:32+00:00</td>\n",
       "      <td>unidentified</td>\n",
       "      <td>NaN</td>\n",
       "      <td>NaN</td>\n",
       "      <td>...</td>\n",
       "      <td>f1664ba017de4df89d197fa16eaf44ab</td>\n",
       "      <td>NaN</td>\n",
       "      <td>NaN</td>\n",
       "      <td>{}</td>\n",
       "      <td>rejected</td>\n",
       "      <td>NaN</td>\n",
       "      <td>NaN</td>\n",
       "      <td>NaN</td>\n",
       "      <td>NaT</td>\n",
       "      <td>NaN</td>\n",
       "    </tr>\n",
       "    <tr>\n",
       "      <th>39974</th>\n",
       "      <td>ff65063585a14cca8214cf3c071eec26</td>\n",
       "      <td>consider</td>\n",
       "      <td>NaN</td>\n",
       "      <td>consider</td>\n",
       "      <td>NaN</td>\n",
       "      <td>unidentified</td>\n",
       "      <td>2017-10-18 20:44:37+00:00</td>\n",
       "      <td>clear</td>\n",
       "      <td>NaN</td>\n",
       "      <td>NaN</td>\n",
       "      <td>...</td>\n",
       "      <td>88564b9d95934bb4b03932045a3e1159</td>\n",
       "      <td>NaN</td>\n",
       "      <td>NaN</td>\n",
       "      <td>{}</td>\n",
       "      <td>rejected</td>\n",
       "      <td>NaN</td>\n",
       "      <td>NaN</td>\n",
       "      <td>NaN</td>\n",
       "      <td>NaT</td>\n",
       "      <td>NaN</td>\n",
       "    </tr>\n",
       "    <tr>\n",
       "      <th>6630</th>\n",
       "      <td>6086850accbf42c8aa26bc598d0aaee1</td>\n",
       "      <td>consider</td>\n",
       "      <td>NaN</td>\n",
       "      <td>consider</td>\n",
       "      <td>NaN</td>\n",
       "      <td>unidentified</td>\n",
       "      <td>2017-10-28 15:17:58+00:00</td>\n",
       "      <td>clear</td>\n",
       "      <td>NaN</td>\n",
       "      <td>NaN</td>\n",
       "      <td>...</td>\n",
       "      <td>f0db16f68bba49279aefa19643590d16</td>\n",
       "      <td>NaN</td>\n",
       "      <td>NaN</td>\n",
       "      <td>{}</td>\n",
       "      <td>rejected</td>\n",
       "      <td>NaN</td>\n",
       "      <td>NaN</td>\n",
       "      <td>NaN</td>\n",
       "      <td>NaT</td>\n",
       "      <td>NaN</td>\n",
       "    </tr>\n",
       "    <tr>\n",
       "      <th>131049</th>\n",
       "      <td>ae7569847950467293fa99deb34a39df</td>\n",
       "      <td>consider</td>\n",
       "      <td>NaN</td>\n",
       "      <td>consider</td>\n",
       "      <td>NaN</td>\n",
       "      <td>unidentified</td>\n",
       "      <td>2017-08-24 15:44:20+00:00</td>\n",
       "      <td>clear</td>\n",
       "      <td>NaN</td>\n",
       "      <td>NaN</td>\n",
       "      <td>...</td>\n",
       "      <td>b9b1683673cd445f9020782af342df46</td>\n",
       "      <td>NaN</td>\n",
       "      <td>NaN</td>\n",
       "      <td>{}</td>\n",
       "      <td>rejected</td>\n",
       "      <td>NaN</td>\n",
       "      <td>NaN</td>\n",
       "      <td>NaN</td>\n",
       "      <td>NaT</td>\n",
       "      <td>NaN</td>\n",
       "    </tr>\n",
       "  </tbody>\n",
       "</table>\n",
       "<p>5 rows × 23 columns</p>\n",
       "</div>"
      ],
      "text/plain": [
       "                                 user_id    result visual_authenticity_result  \\\n",
       "39425   e002539d43564f32a16c5024822de51b  consider                        NaN   \n",
       "63901   fd8cac98b2274caab8dbfe441c0cb475  consider                        NaN   \n",
       "39974   ff65063585a14cca8214cf3c071eec26  consider                        NaN   \n",
       "6630    6086850accbf42c8aa26bc598d0aaee1  consider                        NaN   \n",
       "131049  ae7569847950467293fa99deb34a39df  consider                        NaN   \n",
       "\n",
       "       image_integrity_result face_detection_result image_quality_result  \\\n",
       "39425                consider                   NaN         unidentified   \n",
       "63901                consider                   NaN                clear   \n",
       "39974                consider                   NaN         unidentified   \n",
       "6630                 consider                   NaN         unidentified   \n",
       "131049               consider                   NaN         unidentified   \n",
       "\n",
       "                      created_at supported_document_result  \\\n",
       "39425  2017-10-18 21:05:12+00:00                     clear   \n",
       "63901  2017-10-26 07:16:32+00:00              unidentified   \n",
       "39974  2017-10-18 20:44:37+00:00                     clear   \n",
       "6630   2017-10-28 15:17:58+00:00                     clear   \n",
       "131049 2017-08-24 15:44:20+00:00                     clear   \n",
       "\n",
       "       conclusive_document_quality_result colour_picture_result  ...  \\\n",
       "39425                                 NaN                   NaN  ...   \n",
       "63901                                 NaN                   NaN  ...   \n",
       "39974                                 NaN                   NaN  ...   \n",
       "6630                                  NaN                   NaN  ...   \n",
       "131049                                NaN                   NaN  ...   \n",
       "\n",
       "                              attempt_id police_record_result  \\\n",
       "39425   700394ecc1574c8c96ba08f8f9c72ecd                  NaN   \n",
       "63901   f1664ba017de4df89d197fa16eaf44ab                  NaN   \n",
       "39974   88564b9d95934bb4b03932045a3e1159                  NaN   \n",
       "6630    f0db16f68bba49279aefa19643590d16                  NaN   \n",
       "131049  b9b1683673cd445f9020782af342df46                  NaN   \n",
       "\n",
       "       compromised_document_result properties sub_result gender nationality  \\\n",
       "39425                          NaN         {}   rejected    NaN         NaN   \n",
       "63901                          NaN         {}   rejected    NaN         NaN   \n",
       "39974                          NaN         {}   rejected    NaN         NaN   \n",
       "6630                           NaN         {}   rejected    NaN         NaN   \n",
       "131049                         NaN         {}   rejected    NaN         NaN   \n",
       "\n",
       "       document_type date_of_expiry issuing_country  \n",
       "39425            NaN            NaT             NaN  \n",
       "63901            NaN            NaT             NaN  \n",
       "39974            NaN            NaT             NaN  \n",
       "6630             NaN            NaT             NaN  \n",
       "131049           NaN            NaT             NaN  \n",
       "\n",
       "[5 rows x 23 columns]"
      ]
     },
     "execution_count": 19,
     "metadata": {},
     "output_type": "execute_result"
    }
   ],
   "source": [
    "df.sample(5)"
   ]
  },
  {
   "cell_type": "markdown",
   "id": "charming-finger",
   "metadata": {},
   "source": [
    "> The Visual Assesment shows alot of Nans and empty properties values"
   ]
  },
  {
   "cell_type": "code",
   "execution_count": 20,
   "id": "differential-familiar",
   "metadata": {},
   "outputs": [
    {
     "data": {
      "text/plain": [
       "0.9994633959371406"
      ]
     },
     "execution_count": 20,
     "metadata": {},
     "output_type": "execute_result"
    }
   ],
   "source": [
    "# Calculating the proportion of the rejection to have missing properties..\n",
    "(df_doc.query('sub_result == \"rejected\"').properties == \"{}\").mean()"
   ]
  },
  {
   "cell_type": "code",
   "execution_count": 21,
   "id": "engaged-citation",
   "metadata": {},
   "outputs": [
    {
     "data": {
      "text/plain": [
       "0.0008429764732929727"
      ]
     },
     "execution_count": 21,
     "metadata": {},
     "output_type": "execute_result"
    }
   ],
   "source": [
    "# Calculating the proportion of the rejection to have missing properties..\n",
    "(df_doc.query('properties == \"{}\"').sub_result != \"rejected\").mean()"
   ]
  },
  {
   "cell_type": "code",
   "execution_count": 22,
   "id": "concerned-dealer",
   "metadata": {},
   "outputs": [
    {
     "data": {
      "image/png": "[encoded data removed]",
      "text/plain": [
       "<Figure size 720x432 with 1 Axes>"
      ]
     },
     "metadata": {},
     "output_type": "display_data"
    }
   ],
   "source": [
    "plt.figure(figsize=(10,6))\n",
    "sns.kdeplot('created_at',hue='sub_result',shade = True,data=df_doc.query('properties == \"{}\"'));\n",
    "plt.title('Properties with missing values over time',fontsize=25,pad= 20);\n",
    "plt.legend(labels = [\"Caution\",'Recejcted'], fontsize='large', loc=2);"
   ]
  },
  {
   "cell_type": "code",
   "execution_count": 26,
   "id": "detailed-rubber",
   "metadata": {},
   "outputs": [
    {
     "data": {
      "image/png": "[encoded data removed]",
      "text/plain": [
       "<Figure size 720x432 with 1 Axes>"
      ]
     },
     "metadata": {},
     "output_type": "display_data"
    }
   ],
   "source": [
    "# Checking if we cut out the missing values in properties .. the rejection would disappear?\n",
    "plt.figure(figsize=(10,6))\n",
    "sns.kdeplot('created_at',hue='sub_result',shade = True,data=df_doc.query('properties != \"{}\"'));\n",
    "plt.title('Sub_result values without missing properties values over time',fontsize=25,pad= 20);\n",
    "plt.legend(labels = [\"Caution\", 'Clear','Suspected',\"Rejected\"], fontsize='large', loc=2);"
   ]
  },
  {
   "cell_type": "markdown",
   "id": "falling-polish",
   "metadata": {},
   "source": [
    "> ### There is a strong association between getting a rejection and properties value being missing. "
   ]
  },
  {
   "cell_type": "markdown",
   "id": "korean-presence",
   "metadata": {},
   "source": [
    "# Figuring out what causes the cautions"
   ]
  },
  {
   "cell_type": "code",
   "execution_count": 27,
   "id": "italian-exploration",
   "metadata": {},
   "outputs": [],
   "source": [
    "# Slicing the document report with only the data with sub_result of caution\n",
    "df = df_doc.query('sub_result == \"caution\"')"
   ]
  },
  {
   "cell_type": "code",
   "execution_count": 28,
   "id": "cheap-active",
   "metadata": {},
   "outputs": [
    {
     "data": {
      "text/html": [
       "<div>\n",
       "<style scoped>\n",
       "    .dataframe tbody tr th:only-of-type {\n",
       "        vertical-align: middle;\n",
       "    }\n",
       "\n",
       "    .dataframe tbody tr th {\n",
       "        vertical-align: top;\n",
       "    }\n",
       "\n",
       "    .dataframe thead th {\n",
       "        text-align: right;\n",
       "    }\n",
       "</style>\n",
       "<table border=\"1\" class=\"dataframe\">\n",
       "  <thead>\n",
       "    <tr style=\"text-align: right;\">\n",
       "      <th></th>\n",
       "      <th>user_id</th>\n",
       "      <th>result</th>\n",
       "      <th>visual_authenticity_result</th>\n",
       "      <th>image_integrity_result</th>\n",
       "      <th>face_detection_result</th>\n",
       "      <th>image_quality_result</th>\n",
       "      <th>created_at</th>\n",
       "      <th>supported_document_result</th>\n",
       "      <th>conclusive_document_quality_result</th>\n",
       "      <th>colour_picture_result</th>\n",
       "      <th>...</th>\n",
       "      <th>attempt_id</th>\n",
       "      <th>police_record_result</th>\n",
       "      <th>compromised_document_result</th>\n",
       "      <th>properties</th>\n",
       "      <th>sub_result</th>\n",
       "      <th>gender</th>\n",
       "      <th>nationality</th>\n",
       "      <th>document_type</th>\n",
       "      <th>date_of_expiry</th>\n",
       "      <th>issuing_country</th>\n",
       "    </tr>\n",
       "  </thead>\n",
       "  <tbody>\n",
       "    <tr>\n",
       "      <th>41812</th>\n",
       "      <td>490be255584944e39ae90c33fa2b2aef</td>\n",
       "      <td>consider</td>\n",
       "      <td>clear</td>\n",
       "      <td>consider</td>\n",
       "      <td>clear</td>\n",
       "      <td>clear</td>\n",
       "      <td>2017-10-17 17:30:49+00:00</td>\n",
       "      <td>clear</td>\n",
       "      <td>consider</td>\n",
       "      <td>clear</td>\n",
       "      <td>...</td>\n",
       "      <td>5251ef7f344947a0af69ff4c92bb8002</td>\n",
       "      <td>clear</td>\n",
       "      <td>clear</td>\n",
       "      <td>{'gender': 'Female', 'issuing_date': '2016-08-...</td>\n",
       "      <td>caution</td>\n",
       "      <td>female</td>\n",
       "      <td>NaN</td>\n",
       "      <td>driving_licence</td>\n",
       "      <td>2026-08-24</td>\n",
       "      <td>GBR</td>\n",
       "    </tr>\n",
       "    <tr>\n",
       "      <th>62776</th>\n",
       "      <td>f04503fcc8cf4c9b9db489e1b4ab177c</td>\n",
       "      <td>consider</td>\n",
       "      <td>clear</td>\n",
       "      <td>consider</td>\n",
       "      <td>clear</td>\n",
       "      <td>clear</td>\n",
       "      <td>2017-10-13 16:53:41+00:00</td>\n",
       "      <td>clear</td>\n",
       "      <td>consider</td>\n",
       "      <td>clear</td>\n",
       "      <td>...</td>\n",
       "      <td>18e18a0ee36e49d489bae55006910490</td>\n",
       "      <td>clear</td>\n",
       "      <td>NaN</td>\n",
       "      <td>{'gender': 'Female', 'issuing_date': '2015-01-...</td>\n",
       "      <td>caution</td>\n",
       "      <td>female</td>\n",
       "      <td>NaN</td>\n",
       "      <td>driving_licence</td>\n",
       "      <td>2025-01-12</td>\n",
       "      <td>GBR</td>\n",
       "    </tr>\n",
       "    <tr>\n",
       "      <th>18155</th>\n",
       "      <td>fe76d2a5964e4ebb898b045a049b57ca</td>\n",
       "      <td>consider</td>\n",
       "      <td>clear</td>\n",
       "      <td>consider</td>\n",
       "      <td>clear</td>\n",
       "      <td>clear</td>\n",
       "      <td>2017-10-10 16:51:05+00:00</td>\n",
       "      <td>clear</td>\n",
       "      <td>consider</td>\n",
       "      <td>clear</td>\n",
       "      <td>...</td>\n",
       "      <td>148cbae2001a400e9e925e65fd9b5d65</td>\n",
       "      <td>clear</td>\n",
       "      <td>clear</td>\n",
       "      <td>{'gender': 'Male', 'nationality': 'CZE', 'docu...</td>\n",
       "      <td>caution</td>\n",
       "      <td>male</td>\n",
       "      <td>CZE</td>\n",
       "      <td>passport</td>\n",
       "      <td>2027-07-03</td>\n",
       "      <td>CZE</td>\n",
       "    </tr>\n",
       "    <tr>\n",
       "      <th>83670</th>\n",
       "      <td>be1dc4b794cf4d38b8fe893004033b94</td>\n",
       "      <td>consider</td>\n",
       "      <td>clear</td>\n",
       "      <td>consider</td>\n",
       "      <td>clear</td>\n",
       "      <td>clear</td>\n",
       "      <td>2017-10-01 17:40:24+00:00</td>\n",
       "      <td>clear</td>\n",
       "      <td>consider</td>\n",
       "      <td>clear</td>\n",
       "      <td>...</td>\n",
       "      <td>9cc2a23bf8b2477195cd340631f35506</td>\n",
       "      <td>clear</td>\n",
       "      <td>clear</td>\n",
       "      <td>{'issuing_date': '2011-04-20', 'document_type'...</td>\n",
       "      <td>caution</td>\n",
       "      <td>NaN</td>\n",
       "      <td>NaN</td>\n",
       "      <td>driving_licence</td>\n",
       "      <td>2021-04-20</td>\n",
       "      <td>ITA</td>\n",
       "    </tr>\n",
       "    <tr>\n",
       "      <th>31298</th>\n",
       "      <td>0a441ff4542146a899a795e1aa7be0e9</td>\n",
       "      <td>consider</td>\n",
       "      <td>clear</td>\n",
       "      <td>clear</td>\n",
       "      <td>clear</td>\n",
       "      <td>clear</td>\n",
       "      <td>2017-07-02 09:14:59+00:00</td>\n",
       "      <td>clear</td>\n",
       "      <td>NaN</td>\n",
       "      <td>NaN</td>\n",
       "      <td>...</td>\n",
       "      <td>d45c94fabe1f4ecfbbad8f6b19222698</td>\n",
       "      <td>clear</td>\n",
       "      <td>NaN</td>\n",
       "      <td>{'gender': 'Male', 'document_type': 'driving_l...</td>\n",
       "      <td>caution</td>\n",
       "      <td>male</td>\n",
       "      <td>NaN</td>\n",
       "      <td>driving_licence</td>\n",
       "      <td>2006-06-20</td>\n",
       "      <td>POL</td>\n",
       "    </tr>\n",
       "  </tbody>\n",
       "</table>\n",
       "<p>5 rows × 23 columns</p>\n",
       "</div>"
      ],
      "text/plain": [
       "                                user_id    result visual_authenticity_result  \\\n",
       "41812  490be255584944e39ae90c33fa2b2aef  consider                      clear   \n",
       "62776  f04503fcc8cf4c9b9db489e1b4ab177c  consider                      clear   \n",
       "18155  fe76d2a5964e4ebb898b045a049b57ca  consider                      clear   \n",
       "83670  be1dc4b794cf4d38b8fe893004033b94  consider                      clear   \n",
       "31298  0a441ff4542146a899a795e1aa7be0e9  consider                      clear   \n",
       "\n",
       "      image_integrity_result face_detection_result image_quality_result  \\\n",
       "41812               consider                 clear                clear   \n",
       "62776               consider                 clear                clear   \n",
       "18155               consider                 clear                clear   \n",
       "83670               consider                 clear                clear   \n",
       "31298                  clear                 clear                clear   \n",
       "\n",
       "                     created_at supported_document_result  \\\n",
       "41812 2017-10-17 17:30:49+00:00                     clear   \n",
       "62776 2017-10-13 16:53:41+00:00                     clear   \n",
       "18155 2017-10-10 16:51:05+00:00                     clear   \n",
       "83670 2017-10-01 17:40:24+00:00                     clear   \n",
       "31298 2017-07-02 09:14:59+00:00                     clear   \n",
       "\n",
       "      conclusive_document_quality_result colour_picture_result  ...  \\\n",
       "41812                           consider                 clear  ...   \n",
       "62776                           consider                 clear  ...   \n",
       "18155                           consider                 clear  ...   \n",
       "83670                           consider                 clear  ...   \n",
       "31298                                NaN                   NaN  ...   \n",
       "\n",
       "                             attempt_id police_record_result  \\\n",
       "41812  5251ef7f344947a0af69ff4c92bb8002                clear   \n",
       "62776  18e18a0ee36e49d489bae55006910490                clear   \n",
       "18155  148cbae2001a400e9e925e65fd9b5d65                clear   \n",
       "83670  9cc2a23bf8b2477195cd340631f35506                clear   \n",
       "31298  d45c94fabe1f4ecfbbad8f6b19222698                clear   \n",
       "\n",
       "      compromised_document_result  \\\n",
       "41812                       clear   \n",
       "62776                         NaN   \n",
       "18155                       clear   \n",
       "83670                       clear   \n",
       "31298                         NaN   \n",
       "\n",
       "                                              properties sub_result  gender  \\\n",
       "41812  {'gender': 'Female', 'issuing_date': '2016-08-...    caution  female   \n",
       "62776  {'gender': 'Female', 'issuing_date': '2015-01-...    caution  female   \n",
       "18155  {'gender': 'Male', 'nationality': 'CZE', 'docu...    caution    male   \n",
       "83670  {'issuing_date': '2011-04-20', 'document_type'...    caution     NaN   \n",
       "31298  {'gender': 'Male', 'document_type': 'driving_l...    caution    male   \n",
       "\n",
       "      nationality    document_type date_of_expiry issuing_country  \n",
       "41812         NaN  driving_licence     2026-08-24             GBR  \n",
       "62776         NaN  driving_licence     2025-01-12             GBR  \n",
       "18155         CZE         passport     2027-07-03             CZE  \n",
       "83670         NaN  driving_licence     2021-04-20             ITA  \n",
       "31298         NaN  driving_licence     2006-06-20             POL  \n",
       "\n",
       "[5 rows x 23 columns]"
      ]
     },
     "execution_count": 28,
     "metadata": {},
     "output_type": "execute_result"
    }
   ],
   "source": [
    "df.sample(5)"
   ]
  },
  {
   "cell_type": "markdown",
   "id": "derived-sunset",
   "metadata": {},
   "source": [
    "### Testing with issuing_country"
   ]
  },
  {
   "cell_type": "code",
   "execution_count": 52,
   "id": "arranged-software",
   "metadata": {},
   "outputs": [
    {
     "data": {
      "text/plain": [
       "Index(['GBR', 'FRA', 'LTU', 'ESP', 'IRL', 'POL', 'PRT', 'ITA', 'DEU', 'GRC',\n",
       "       'CHE', 'NLD', 'ROU', 'BEL', 'HUN', 'CZE', 'LVA', 'SVN', 'BGR', 'GIB',\n",
       "       'SWE', 'AUT', 'CYP', 'MLT', 'USA', 'AUS', 'IND', 'SVK', 'DNK', 'NZL',\n",
       "       'EST', 'RUS', 'NOR', 'HRV', 'TWN', 'CHN', 'FIN', 'BRA', 'JEY', 'CAN',\n",
       "       'PHL', 'MAR', 'MYS', 'UKR', 'SGP', 'ZAF', 'TUR', 'MEX', 'LUX', 'COL'],\n",
       "      dtype='object')"
      ]
     },
     "execution_count": 52,
     "metadata": {},
     "output_type": "execute_result"
    }
   ],
   "source": [
    "natt = df_doc.issuing_country.value_counts()[:50].index\n",
    "natt"
   ]
  },
  {
   "cell_type": "code",
   "execution_count": 53,
   "id": "electrical-dining",
   "metadata": {
    "scrolled": false
   },
   "outputs": [
    {
     "name": "stdout",
     "output_type": "stream",
     "text": [
      "Proportion of cautions\n",
      "for every issuing \n",
      "countrythat had more\n",
      "than 100 visitors ..\n"
     ]
    },
    {
     "data": {
      "text/html": [
       "<div>\n",
       "<style scoped>\n",
       "    .dataframe tbody tr th:only-of-type {\n",
       "        vertical-align: middle;\n",
       "    }\n",
       "\n",
       "    .dataframe tbody tr th {\n",
       "        vertical-align: top;\n",
       "    }\n",
       "\n",
       "    .dataframe thead th {\n",
       "        text-align: right;\n",
       "    }\n",
       "</style>\n",
       "<table border=\"1\" class=\"dataframe\">\n",
       "  <thead>\n",
       "    <tr style=\"text-align: right;\">\n",
       "      <th></th>\n",
       "      <th>Country</th>\n",
       "      <th>rate</th>\n",
       "    </tr>\n",
       "  </thead>\n",
       "  <tbody>\n",
       "    <tr>\n",
       "      <th>17</th>\n",
       "      <td>GBR</td>\n",
       "      <td>0.143973</td>\n",
       "    </tr>\n",
       "    <tr>\n",
       "      <th>29</th>\n",
       "      <td>MAR</td>\n",
       "      <td>0.143617</td>\n",
       "    </tr>\n",
       "    <tr>\n",
       "      <th>1</th>\n",
       "      <td>AUT</td>\n",
       "      <td>0.142287</td>\n",
       "    </tr>\n",
       "    <tr>\n",
       "      <th>23</th>\n",
       "      <td>IRL</td>\n",
       "      <td>0.129333</td>\n",
       "    </tr>\n",
       "    <tr>\n",
       "      <th>24</th>\n",
       "      <td>ITA</td>\n",
       "      <td>0.127995</td>\n",
       "    </tr>\n",
       "    <tr>\n",
       "      <th>30</th>\n",
       "      <td>MEX</td>\n",
       "      <td>0.123810</td>\n",
       "    </tr>\n",
       "    <tr>\n",
       "      <th>28</th>\n",
       "      <td>LVA</td>\n",
       "      <td>0.120607</td>\n",
       "    </tr>\n",
       "    <tr>\n",
       "      <th>22</th>\n",
       "      <td>IND</td>\n",
       "      <td>0.116105</td>\n",
       "    </tr>\n",
       "    <tr>\n",
       "      <th>12</th>\n",
       "      <td>DNK</td>\n",
       "      <td>0.113360</td>\n",
       "    </tr>\n",
       "    <tr>\n",
       "      <th>11</th>\n",
       "      <td>DEU</td>\n",
       "      <td>0.108706</td>\n",
       "    </tr>\n",
       "    <tr>\n",
       "      <th>36</th>\n",
       "      <td>PHL</td>\n",
       "      <td>0.107143</td>\n",
       "    </tr>\n",
       "    <tr>\n",
       "      <th>5</th>\n",
       "      <td>CAN</td>\n",
       "      <td>0.105263</td>\n",
       "    </tr>\n",
       "    <tr>\n",
       "      <th>38</th>\n",
       "      <td>PRT</td>\n",
       "      <td>0.104643</td>\n",
       "    </tr>\n",
       "    <tr>\n",
       "      <th>26</th>\n",
       "      <td>LTU</td>\n",
       "      <td>0.100809</td>\n",
       "    </tr>\n",
       "    <tr>\n",
       "      <th>15</th>\n",
       "      <td>FIN</td>\n",
       "      <td>0.099042</td>\n",
       "    </tr>\n",
       "    <tr>\n",
       "      <th>4</th>\n",
       "      <td>BRA</td>\n",
       "      <td>0.098361</td>\n",
       "    </tr>\n",
       "    <tr>\n",
       "      <th>34</th>\n",
       "      <td>NOR</td>\n",
       "      <td>0.097297</td>\n",
       "    </tr>\n",
       "    <tr>\n",
       "      <th>33</th>\n",
       "      <td>NLD</td>\n",
       "      <td>0.095492</td>\n",
       "    </tr>\n",
       "    <tr>\n",
       "      <th>49</th>\n",
       "      <td>ZAF</td>\n",
       "      <td>0.090226</td>\n",
       "    </tr>\n",
       "    <tr>\n",
       "      <th>16</th>\n",
       "      <td>FRA</td>\n",
       "      <td>0.090086</td>\n",
       "    </tr>\n",
       "    <tr>\n",
       "      <th>18</th>\n",
       "      <td>GIB</td>\n",
       "      <td>0.087782</td>\n",
       "    </tr>\n",
       "    <tr>\n",
       "      <th>46</th>\n",
       "      <td>TWN</td>\n",
       "      <td>0.085890</td>\n",
       "    </tr>\n",
       "    <tr>\n",
       "      <th>45</th>\n",
       "      <td>TUR</td>\n",
       "      <td>0.084615</td>\n",
       "    </tr>\n",
       "    <tr>\n",
       "      <th>14</th>\n",
       "      <td>EST</td>\n",
       "      <td>0.083333</td>\n",
       "    </tr>\n",
       "    <tr>\n",
       "      <th>39</th>\n",
       "      <td>ROU</td>\n",
       "      <td>0.082541</td>\n",
       "    </tr>\n",
       "    <tr>\n",
       "      <th>3</th>\n",
       "      <td>BGR</td>\n",
       "      <td>0.082405</td>\n",
       "    </tr>\n",
       "    <tr>\n",
       "      <th>21</th>\n",
       "      <td>HUN</td>\n",
       "      <td>0.082242</td>\n",
       "    </tr>\n",
       "    <tr>\n",
       "      <th>0</th>\n",
       "      <td>AUS</td>\n",
       "      <td>0.081538</td>\n",
       "    </tr>\n",
       "    <tr>\n",
       "      <th>13</th>\n",
       "      <td>ESP</td>\n",
       "      <td>0.080833</td>\n",
       "    </tr>\n",
       "    <tr>\n",
       "      <th>37</th>\n",
       "      <td>POL</td>\n",
       "      <td>0.080571</td>\n",
       "    </tr>\n",
       "    <tr>\n",
       "      <th>27</th>\n",
       "      <td>LUX</td>\n",
       "      <td>0.073684</td>\n",
       "    </tr>\n",
       "    <tr>\n",
       "      <th>48</th>\n",
       "      <td>USA</td>\n",
       "      <td>0.072780</td>\n",
       "    </tr>\n",
       "    <tr>\n",
       "      <th>42</th>\n",
       "      <td>SVK</td>\n",
       "      <td>0.071429</td>\n",
       "    </tr>\n",
       "    <tr>\n",
       "      <th>7</th>\n",
       "      <td>CHN</td>\n",
       "      <td>0.070288</td>\n",
       "    </tr>\n",
       "    <tr>\n",
       "      <th>47</th>\n",
       "      <td>UKR</td>\n",
       "      <td>0.069620</td>\n",
       "    </tr>\n",
       "    <tr>\n",
       "      <th>8</th>\n",
       "      <td>COL</td>\n",
       "      <td>0.068966</td>\n",
       "    </tr>\n",
       "    <tr>\n",
       "      <th>19</th>\n",
       "      <td>GRC</td>\n",
       "      <td>0.067523</td>\n",
       "    </tr>\n",
       "    <tr>\n",
       "      <th>10</th>\n",
       "      <td>CZE</td>\n",
       "      <td>0.066982</td>\n",
       "    </tr>\n",
       "    <tr>\n",
       "      <th>35</th>\n",
       "      <td>NZL</td>\n",
       "      <td>0.062232</td>\n",
       "    </tr>\n",
       "    <tr>\n",
       "      <th>44</th>\n",
       "      <td>SWE</td>\n",
       "      <td>0.061958</td>\n",
       "    </tr>\n",
       "    <tr>\n",
       "      <th>31</th>\n",
       "      <td>MLT</td>\n",
       "      <td>0.058741</td>\n",
       "    </tr>\n",
       "    <tr>\n",
       "      <th>9</th>\n",
       "      <td>CYP</td>\n",
       "      <td>0.057564</td>\n",
       "    </tr>\n",
       "    <tr>\n",
       "      <th>40</th>\n",
       "      <td>RUS</td>\n",
       "      <td>0.056848</td>\n",
       "    </tr>\n",
       "    <tr>\n",
       "      <th>32</th>\n",
       "      <td>MYS</td>\n",
       "      <td>0.055249</td>\n",
       "    </tr>\n",
       "    <tr>\n",
       "      <th>2</th>\n",
       "      <td>BEL</td>\n",
       "      <td>0.055103</td>\n",
       "    </tr>\n",
       "    <tr>\n",
       "      <th>20</th>\n",
       "      <td>HRV</td>\n",
       "      <td>0.054131</td>\n",
       "    </tr>\n",
       "    <tr>\n",
       "      <th>6</th>\n",
       "      <td>CHE</td>\n",
       "      <td>0.050122</td>\n",
       "    </tr>\n",
       "    <tr>\n",
       "      <th>43</th>\n",
       "      <td>SVN</td>\n",
       "      <td>0.037194</td>\n",
       "    </tr>\n",
       "    <tr>\n",
       "      <th>25</th>\n",
       "      <td>JEY</td>\n",
       "      <td>0.030000</td>\n",
       "    </tr>\n",
       "    <tr>\n",
       "      <th>41</th>\n",
       "      <td>SGP</td>\n",
       "      <td>0.025641</td>\n",
       "    </tr>\n",
       "  </tbody>\n",
       "</table>\n",
       "</div>"
      ],
      "text/plain": [
       "   Country      rate\n",
       "17     GBR  0.143973\n",
       "29     MAR  0.143617\n",
       "1      AUT  0.142287\n",
       "23     IRL  0.129333\n",
       "24     ITA  0.127995\n",
       "30     MEX  0.123810\n",
       "28     LVA  0.120607\n",
       "22     IND  0.116105\n",
       "12     DNK  0.113360\n",
       "11     DEU  0.108706\n",
       "36     PHL  0.107143\n",
       "5      CAN  0.105263\n",
       "38     PRT  0.104643\n",
       "26     LTU  0.100809\n",
       "15     FIN  0.099042\n",
       "4      BRA  0.098361\n",
       "34     NOR  0.097297\n",
       "33     NLD  0.095492\n",
       "49     ZAF  0.090226\n",
       "16     FRA  0.090086\n",
       "18     GIB  0.087782\n",
       "46     TWN  0.085890\n",
       "45     TUR  0.084615\n",
       "14     EST  0.083333\n",
       "39     ROU  0.082541\n",
       "3      BGR  0.082405\n",
       "21     HUN  0.082242\n",
       "0      AUS  0.081538\n",
       "13     ESP  0.080833\n",
       "37     POL  0.080571\n",
       "27     LUX  0.073684\n",
       "48     USA  0.072780\n",
       "42     SVK  0.071429\n",
       "7      CHN  0.070288\n",
       "47     UKR  0.069620\n",
       "8      COL  0.068966\n",
       "19     GRC  0.067523\n",
       "10     CZE  0.066982\n",
       "35     NZL  0.062232\n",
       "44     SWE  0.061958\n",
       "31     MLT  0.058741\n",
       "9      CYP  0.057564\n",
       "40     RUS  0.056848\n",
       "32     MYS  0.055249\n",
       "2      BEL  0.055103\n",
       "20     HRV  0.054131\n",
       "6      CHE  0.050122\n",
       "43     SVN  0.037194\n",
       "25     JEY  0.030000\n",
       "41     SGP  0.025641"
      ]
     },
     "execution_count": 53,
     "metadata": {},
     "output_type": "execute_result"
    }
   ],
   "source": [
    "print('Proportion of cautions\\nfor every issuing \\ncountrythat had more\\nthan 100 visitors ..')\n",
    "a=df_doc.query(\"sub_result =='caution'\").groupby('issuing_country')['user_id'].count() / df_doc.groupby('issuing_country')['user_id'].count()\n",
    "a.sort_values(ascending=False)\n",
    "b=[]\n",
    "for i,j in a.items():\n",
    "    if i in natt:\n",
    "        tst= {}\n",
    "        tst['Country']=i\n",
    "        tst['rate']=j\n",
    "        b.append(tst)\n",
    "df_nat = pd.DataFrame(b)\n",
    "df_nat.sort_values(by=['rate'],ascending=False)"
   ]
  },
  {
   "cell_type": "markdown",
   "id": "unavailable-wallace",
   "metadata": {},
   "source": [
    "### Testing with Nationality"
   ]
  },
  {
   "cell_type": "code",
   "execution_count": 54,
   "id": "mexican-virginia",
   "metadata": {},
   "outputs": [
    {
     "data": {
      "text/plain": [
       "GBR    12652\n",
       "ESP     7763\n",
       "LTU     7569\n",
       "FRA     6689\n",
       "POL     6143\n",
       "       ...  \n",
       "TJK        1\n",
       "MNE        1\n",
       "O7I        1\n",
       "AVN        1\n",
       "ESO        1\n",
       "Name: nationality, Length: 200, dtype: int64"
      ]
     },
     "execution_count": 54,
     "metadata": {},
     "output_type": "execute_result"
    }
   ],
   "source": [
    "df_doc.nationality.value_counts()"
   ]
  },
  {
   "cell_type": "code",
   "execution_count": 57,
   "id": "swedish-simulation",
   "metadata": {},
   "outputs": [
    {
     "data": {
      "text/plain": [
       "Index(['GBR', 'ESP', 'LTU', 'FRA', 'POL', 'IRL', 'PRT', 'DEU', 'ITA', 'CHE',\n",
       "       'ROU', 'NLD', 'BEL', 'HUN', 'GRC', 'LVA', 'CZE', 'IND', 'SVN', 'BGR',\n",
       "       'TWN', 'MLT', 'AUS', 'AUT', 'RUS', 'USA', 'CHN', 'SVK', 'NZL', 'HRV',\n",
       "       'SWE', 'BRA', 'EST', 'CYP', 'PHL', 'MAR', 'DNK', 'UKR', 'CAN', 'MYS',\n",
       "       'FIN', 'TUR', 'NOR', 'MEX', 'KOR', 'DZA', 'ZAF', 'TUN', 'JPN', 'COL'],\n",
       "      dtype='object')"
      ]
     },
     "execution_count": 57,
     "metadata": {},
     "output_type": "execute_result"
    }
   ],
   "source": [
    "natt = df_doc.nationality.value_counts()[:50].index\n",
    "natt"
   ]
  },
  {
   "cell_type": "code",
   "execution_count": 59,
   "id": "regional-recovery",
   "metadata": {
    "scrolled": false
   },
   "outputs": [
    {
     "name": "stdout",
     "output_type": "stream",
     "text": [
      "Proportion of cautions for every nationality countrythat had more than 100 visitors ..\n"
     ]
    },
    {
     "data": {
      "text/html": [
       "<div>\n",
       "<style scoped>\n",
       "    .dataframe tbody tr th:only-of-type {\n",
       "        vertical-align: middle;\n",
       "    }\n",
       "\n",
       "    .dataframe tbody tr th {\n",
       "        vertical-align: top;\n",
       "    }\n",
       "\n",
       "    .dataframe thead th {\n",
       "        text-align: right;\n",
       "    }\n",
       "</style>\n",
       "<table border=\"1\" class=\"dataframe\">\n",
       "  <thead>\n",
       "    <tr style=\"text-align: right;\">\n",
       "      <th></th>\n",
       "      <th>Country</th>\n",
       "      <th>rate</th>\n",
       "    </tr>\n",
       "  </thead>\n",
       "  <tbody>\n",
       "    <tr>\n",
       "      <th>1</th>\n",
       "      <td>AUT</td>\n",
       "      <td>0.184154</td>\n",
       "    </tr>\n",
       "    <tr>\n",
       "      <th>44</th>\n",
       "      <td>TUN</td>\n",
       "      <td>0.180952</td>\n",
       "    </tr>\n",
       "    <tr>\n",
       "      <th>29</th>\n",
       "      <td>MAR</td>\n",
       "      <td>0.175214</td>\n",
       "    </tr>\n",
       "    <tr>\n",
       "      <th>34</th>\n",
       "      <td>NOR</td>\n",
       "      <td>0.170543</td>\n",
       "    </tr>\n",
       "    <tr>\n",
       "      <th>12</th>\n",
       "      <td>DNK</td>\n",
       "      <td>0.167421</td>\n",
       "    </tr>\n",
       "    <tr>\n",
       "      <th>18</th>\n",
       "      <td>GBR</td>\n",
       "      <td>0.154442</td>\n",
       "    </tr>\n",
       "    <tr>\n",
       "      <th>17</th>\n",
       "      <td>FRA</td>\n",
       "      <td>0.152489</td>\n",
       "    </tr>\n",
       "    <tr>\n",
       "      <th>23</th>\n",
       "      <td>IRL</td>\n",
       "      <td>0.148678</td>\n",
       "    </tr>\n",
       "    <tr>\n",
       "      <th>16</th>\n",
       "      <td>FIN</td>\n",
       "      <td>0.142857</td>\n",
       "    </tr>\n",
       "    <tr>\n",
       "      <th>28</th>\n",
       "      <td>LVA</td>\n",
       "      <td>0.142544</td>\n",
       "    </tr>\n",
       "    <tr>\n",
       "      <th>33</th>\n",
       "      <td>NLD</td>\n",
       "      <td>0.132293</td>\n",
       "    </tr>\n",
       "    <tr>\n",
       "      <th>25</th>\n",
       "      <td>JPN</td>\n",
       "      <td>0.128713</td>\n",
       "    </tr>\n",
       "    <tr>\n",
       "      <th>24</th>\n",
       "      <td>ITA</td>\n",
       "      <td>0.120093</td>\n",
       "    </tr>\n",
       "    <tr>\n",
       "      <th>22</th>\n",
       "      <td>IND</td>\n",
       "      <td>0.118715</td>\n",
       "    </tr>\n",
       "    <tr>\n",
       "      <th>27</th>\n",
       "      <td>LTU</td>\n",
       "      <td>0.117717</td>\n",
       "    </tr>\n",
       "    <tr>\n",
       "      <th>30</th>\n",
       "      <td>MEX</td>\n",
       "      <td>0.115702</td>\n",
       "    </tr>\n",
       "    <tr>\n",
       "      <th>11</th>\n",
       "      <td>DEU</td>\n",
       "      <td>0.114822</td>\n",
       "    </tr>\n",
       "    <tr>\n",
       "      <th>13</th>\n",
       "      <td>DZA</td>\n",
       "      <td>0.110092</td>\n",
       "    </tr>\n",
       "    <tr>\n",
       "      <th>8</th>\n",
       "      <td>COL</td>\n",
       "      <td>0.110000</td>\n",
       "    </tr>\n",
       "    <tr>\n",
       "      <th>38</th>\n",
       "      <td>PRT</td>\n",
       "      <td>0.108393</td>\n",
       "    </tr>\n",
       "    <tr>\n",
       "      <th>45</th>\n",
       "      <td>TUR</td>\n",
       "      <td>0.102941</td>\n",
       "    </tr>\n",
       "    <tr>\n",
       "      <th>5</th>\n",
       "      <td>CAN</td>\n",
       "      <td>0.100000</td>\n",
       "    </tr>\n",
       "    <tr>\n",
       "      <th>19</th>\n",
       "      <td>GRC</td>\n",
       "      <td>0.096805</td>\n",
       "    </tr>\n",
       "    <tr>\n",
       "      <th>49</th>\n",
       "      <td>ZAF</td>\n",
       "      <td>0.091743</td>\n",
       "    </tr>\n",
       "    <tr>\n",
       "      <th>0</th>\n",
       "      <td>AUS</td>\n",
       "      <td>0.091093</td>\n",
       "    </tr>\n",
       "    <tr>\n",
       "      <th>36</th>\n",
       "      <td>PHL</td>\n",
       "      <td>0.088803</td>\n",
       "    </tr>\n",
       "    <tr>\n",
       "      <th>37</th>\n",
       "      <td>POL</td>\n",
       "      <td>0.088068</td>\n",
       "    </tr>\n",
       "    <tr>\n",
       "      <th>39</th>\n",
       "      <td>ROU</td>\n",
       "      <td>0.087666</td>\n",
       "    </tr>\n",
       "    <tr>\n",
       "      <th>3</th>\n",
       "      <td>BGR</td>\n",
       "      <td>0.086495</td>\n",
       "    </tr>\n",
       "    <tr>\n",
       "      <th>21</th>\n",
       "      <td>HUN</td>\n",
       "      <td>0.085901</td>\n",
       "    </tr>\n",
       "    <tr>\n",
       "      <th>41</th>\n",
       "      <td>SVK</td>\n",
       "      <td>0.084833</td>\n",
       "    </tr>\n",
       "    <tr>\n",
       "      <th>46</th>\n",
       "      <td>TWN</td>\n",
       "      <td>0.080153</td>\n",
       "    </tr>\n",
       "    <tr>\n",
       "      <th>14</th>\n",
       "      <td>ESP</td>\n",
       "      <td>0.079222</td>\n",
       "    </tr>\n",
       "    <tr>\n",
       "      <th>4</th>\n",
       "      <td>BRA</td>\n",
       "      <td>0.078947</td>\n",
       "    </tr>\n",
       "    <tr>\n",
       "      <th>43</th>\n",
       "      <td>SWE</td>\n",
       "      <td>0.078176</td>\n",
       "    </tr>\n",
       "    <tr>\n",
       "      <th>26</th>\n",
       "      <td>KOR</td>\n",
       "      <td>0.076923</td>\n",
       "    </tr>\n",
       "    <tr>\n",
       "      <th>40</th>\n",
       "      <td>RUS</td>\n",
       "      <td>0.075922</td>\n",
       "    </tr>\n",
       "    <tr>\n",
       "      <th>10</th>\n",
       "      <td>CZE</td>\n",
       "      <td>0.074911</td>\n",
       "    </tr>\n",
       "    <tr>\n",
       "      <th>15</th>\n",
       "      <td>EST</td>\n",
       "      <td>0.073090</td>\n",
       "    </tr>\n",
       "    <tr>\n",
       "      <th>35</th>\n",
       "      <td>NZL</td>\n",
       "      <td>0.071642</td>\n",
       "    </tr>\n",
       "    <tr>\n",
       "      <th>47</th>\n",
       "      <td>UKR</td>\n",
       "      <td>0.071429</td>\n",
       "    </tr>\n",
       "    <tr>\n",
       "      <th>31</th>\n",
       "      <td>MLT</td>\n",
       "      <td>0.067308</td>\n",
       "    </tr>\n",
       "    <tr>\n",
       "      <th>7</th>\n",
       "      <td>CHN</td>\n",
       "      <td>0.065463</td>\n",
       "    </tr>\n",
       "    <tr>\n",
       "      <th>48</th>\n",
       "      <td>USA</td>\n",
       "      <td>0.064018</td>\n",
       "    </tr>\n",
       "    <tr>\n",
       "      <th>6</th>\n",
       "      <td>CHE</td>\n",
       "      <td>0.061688</td>\n",
       "    </tr>\n",
       "    <tr>\n",
       "      <th>2</th>\n",
       "      <td>BEL</td>\n",
       "      <td>0.055556</td>\n",
       "    </tr>\n",
       "    <tr>\n",
       "      <th>20</th>\n",
       "      <td>HRV</td>\n",
       "      <td>0.055046</td>\n",
       "    </tr>\n",
       "    <tr>\n",
       "      <th>9</th>\n",
       "      <td>CYP</td>\n",
       "      <td>0.046332</td>\n",
       "    </tr>\n",
       "    <tr>\n",
       "      <th>32</th>\n",
       "      <td>MYS</td>\n",
       "      <td>0.044444</td>\n",
       "    </tr>\n",
       "    <tr>\n",
       "      <th>42</th>\n",
       "      <td>SVN</td>\n",
       "      <td>0.041116</td>\n",
       "    </tr>\n",
       "  </tbody>\n",
       "</table>\n",
       "</div>"
      ],
      "text/plain": [
       "   Country      rate\n",
       "1      AUT  0.184154\n",
       "44     TUN  0.180952\n",
       "29     MAR  0.175214\n",
       "34     NOR  0.170543\n",
       "12     DNK  0.167421\n",
       "18     GBR  0.154442\n",
       "17     FRA  0.152489\n",
       "23     IRL  0.148678\n",
       "16     FIN  0.142857\n",
       "28     LVA  0.142544\n",
       "33     NLD  0.132293\n",
       "25     JPN  0.128713\n",
       "24     ITA  0.120093\n",
       "22     IND  0.118715\n",
       "27     LTU  0.117717\n",
       "30     MEX  0.115702\n",
       "11     DEU  0.114822\n",
       "13     DZA  0.110092\n",
       "8      COL  0.110000\n",
       "38     PRT  0.108393\n",
       "45     TUR  0.102941\n",
       "5      CAN  0.100000\n",
       "19     GRC  0.096805\n",
       "49     ZAF  0.091743\n",
       "0      AUS  0.091093\n",
       "36     PHL  0.088803\n",
       "37     POL  0.088068\n",
       "39     ROU  0.087666\n",
       "3      BGR  0.086495\n",
       "21     HUN  0.085901\n",
       "41     SVK  0.084833\n",
       "46     TWN  0.080153\n",
       "14     ESP  0.079222\n",
       "4      BRA  0.078947\n",
       "43     SWE  0.078176\n",
       "26     KOR  0.076923\n",
       "40     RUS  0.075922\n",
       "10     CZE  0.074911\n",
       "15     EST  0.073090\n",
       "35     NZL  0.071642\n",
       "47     UKR  0.071429\n",
       "31     MLT  0.067308\n",
       "7      CHN  0.065463\n",
       "48     USA  0.064018\n",
       "6      CHE  0.061688\n",
       "2      BEL  0.055556\n",
       "20     HRV  0.055046\n",
       "9      CYP  0.046332\n",
       "32     MYS  0.044444\n",
       "42     SVN  0.041116"
      ]
     },
     "execution_count": 59,
     "metadata": {},
     "output_type": "execute_result"
    }
   ],
   "source": [
    "print('Proportion of cautions for every nationality countrythat had more than 100 visitors ..')\n",
    "a=df_doc.query(\"sub_result =='caution'\").groupby('nationality')['user_id'].count() / df_doc.groupby('nationality')['user_id'].count()\n",
    "a.sort_values(ascending=False)\n",
    "b=[]\n",
    "for i,j in a.items():\n",
    "    if i in natt:\n",
    "        tst= {}\n",
    "        tst['Country']=i\n",
    "        tst['rate']=j\n",
    "        b.append(tst)\n",
    "df_nat = pd.DataFrame(b)\n",
    "df_nat.sort_values(by=['rate'],ascending=False)"
   ]
  },
  {
   "cell_type": "markdown",
   "id": "persistent-carbon",
   "metadata": {},
   "source": [
    "### Testing with document type"
   ]
  },
  {
   "cell_type": "code",
   "execution_count": 60,
   "id": "trained-planning",
   "metadata": {},
   "outputs": [
    {
     "name": "stdout",
     "output_type": "stream",
     "text": [
      "Proportion of cautions for every document type ..\n"
     ]
    },
    {
     "data": {
      "text/plain": [
       "document_type\n",
       "birth_certificate              NaN\n",
       "driving_licence           0.107304\n",
       "national_identity_card    0.075055\n",
       "passport                  0.146964\n",
       "residence_permit          0.083988\n",
       "tax_id                         NaN\n",
       "voter_id                       NaN\n",
       "work_permit               0.058824\n",
       "Name: user_id, dtype: float64"
      ]
     },
     "execution_count": 60,
     "metadata": {},
     "output_type": "execute_result"
    }
   ],
   "source": [
    "print('Proportion of cautions for every document type ..')\n",
    "df_doc.query(\"sub_result =='caution'\").groupby('document_type')['user_id'].count() / df_doc.groupby('document_type')['user_id'].count()\n"
   ]
  },
  {
   "cell_type": "markdown",
   "id": "classical-frederick",
   "metadata": {},
   "source": [
    "### Testing with gender"
   ]
  },
  {
   "cell_type": "code",
   "execution_count": 61,
   "id": "advance-greensboro",
   "metadata": {},
   "outputs": [
    {
     "name": "stdout",
     "output_type": "stream",
     "text": [
      "Proportion of cautions for every gender ..\n"
     ]
    },
    {
     "data": {
      "text/plain": [
       "gender\n",
       "8              NaN\n",
       "female    0.114910\n",
       "male      0.113485\n",
       "Name: user_id, dtype: float64"
      ]
     },
     "execution_count": 61,
     "metadata": {},
     "output_type": "execute_result"
    }
   ],
   "source": [
    "print('Proportion of cautions for every gender ..')\n",
    "df_doc.query(\"sub_result =='caution'\").groupby('gender')['user_id'].count() / df_doc.groupby('gender')['user_id'].count()\n"
   ]
  },
  {
   "cell_type": "markdown",
   "id": "sophisticated-bulgaria",
   "metadata": {},
   "source": [
    "### Testing with date of expiry"
   ]
  },
  {
   "cell_type": "code",
   "execution_count": 63,
   "id": "fiscal-neutral",
   "metadata": {},
   "outputs": [
    {
     "name": "stderr",
     "output_type": "stream",
     "text": [
      "<ipython-input-63-5f0b7afceb63>:1: FutureWarning: Treating datetime data as categorical rather than numeric in `.describe` is deprecated and will be removed in a future version of pandas. Specify `datetime_is_numeric=True` to silence this warning and adopt the future behavior now.\n",
      "  df_doc.date_of_expiry.describe()\n"
     ]
    },
    {
     "data": {
      "text/plain": [
       "count                  129109\n",
       "unique                   6382\n",
       "top       2027-05-17 00:00:00\n",
       "freq                       86\n",
       "first     1929-10-15 00:00:00\n",
       "last      2077-12-04 00:00:00\n",
       "Name: date_of_expiry, dtype: object"
      ]
     },
     "execution_count": 63,
     "metadata": {},
     "output_type": "execute_result"
    }
   ],
   "source": [
    "df_doc.date_of_expiry.describe()"
   ]
  },
  {
   "cell_type": "code",
   "execution_count": 86,
   "id": "positive-arrival",
   "metadata": {
    "scrolled": true
   },
   "outputs": [
    {
     "name": "stdout",
     "output_type": "stream",
     "text": [
      "Proportion of sub_result of expired documents\n"
     ]
    },
    {
     "data": {
      "text/plain": [
       "sub_result\n",
       "caution      0.924641\n",
       "clear        0.034689\n",
       "suspected    0.040670\n",
       "Name: user_id, dtype: float64"
      ]
     },
     "execution_count": 86,
     "metadata": {},
     "output_type": "execute_result"
    }
   ],
   "source": [
    "print('Proportion of sub_result of expired documents')\n",
    "df_doc.query('date_of_expiry < \"2017-05\"').groupby('sub_result')['user_id'].count() / df_doc.query('date_of_expiry < \"2017-05\"').user_id.count()"
   ]
  },
  {
   "cell_type": "code",
   "execution_count": 85,
   "id": "isolated-depth",
   "metadata": {},
   "outputs": [
    {
     "data": {
      "text/plain": [
       "836"
      ]
     },
     "execution_count": 85,
     "metadata": {},
     "output_type": "execute_result"
    }
   ],
   "source": [
    " df_doc.query('date_of_expiry < \"2017-05\"').user_id.count()"
   ]
  },
  {
   "cell_type": "markdown",
   "id": "departmental-scene",
   "metadata": {},
   "source": [
    "> There is a strong corelation but it doesn't have a significant effect"
   ]
  },
  {
   "cell_type": "code",
   "execution_count": 93,
   "id": "random-tribune",
   "metadata": {
    "scrolled": true
   },
   "outputs": [
    {
     "name": "stdout",
     "output_type": "stream",
     "text": [
      "Proportion of sub_result of documents with expiry date later than 2027\n"
     ]
    },
    {
     "data": {
      "text/plain": [
       "sub_result\n",
       "caution      0.099799\n",
       "clear        0.888729\n",
       "rejected     0.000063\n",
       "suspected    0.011409\n",
       "Name: user_id, dtype: float64"
      ]
     },
     "execution_count": 93,
     "metadata": {},
     "output_type": "execute_result"
    }
   ],
   "source": [
    "print('Proportion of sub_result of documents with expiry date later than 2027')\n",
    "df_doc.query('date_of_expiry > 2027').groupby('sub_result')['user_id'].count() / df_doc.query('date_of_expiry > 2027').user_id.count()"
   ]
  },
  {
   "cell_type": "code",
   "execution_count": 91,
   "id": "scientific-charm",
   "metadata": {},
   "outputs": [
    {
     "data": {
      "text/plain": [
       "15952"
      ]
     },
     "execution_count": 91,
     "metadata": {},
     "output_type": "execute_result"
    }
   ],
   "source": [
    " df_doc.query('date_of_expiry > 2027').user_id.count()"
   ]
  },
  {
   "cell_type": "markdown",
   "id": "recovered-deployment",
   "metadata": {},
   "source": [
    "> The module is reading alot of documents which have a not resonable expiry date but it's not triggering cautions"
   ]
  },
  {
   "cell_type": "code",
   "execution_count": 106,
   "id": "small-mouse",
   "metadata": {},
   "outputs": [
    {
     "name": "stderr",
     "output_type": "stream",
     "text": [
      "C:\\Users\\Islam\\anaconda3\\lib\\site-packages\\seaborn\\distributions.py:306: UserWarning: Dataset has 0 variance; skipping density estimate.\n",
      "  warnings.warn(msg, UserWarning)\n"
     ]
    },
    {
     "data": {
      "image/png": "[encoded data removed]",
      "text/plain": [
       "<Figure size 720x432 with 1 Axes>"
      ]
     },
     "metadata": {},
     "output_type": "display_data"
    }
   ],
   "source": [
    "# Checking if there is a haigher proportion in cautions with a specific date of expiry\n",
    "plt.figure(figsize=(10,6))\n",
    "sns.kdeplot('date_of_expiry',hue='sub_result',shade = True,data=df_doc.query('date_of_expiry > 2017 and date_of_expiry < 2040'));\n",
    "plt.title('Sub_result at different dates of expiry',fontsize=25,pad= 20);"
   ]
  },
  {
   "cell_type": "markdown",
   "id": "random-portugal",
   "metadata": {},
   "source": [
    "# Conclusion"
   ]
  },
  {
   "cell_type": "markdown",
   "id": "decimal-interview",
   "metadata": {},
   "source": [
    "- The Facial Similarity module is working fine.\n",
    " \n",
    "- The Documents module is the one with the issues and its final result is highly connected to the column of sub_results showing clear, caution, rejected, and suspected.\n",
    "\n",
    "- There is an uptrend in the caution and rejected outputs that is causing a significant decrease in the pass rate over time.\n",
    "\n",
    "- The rejections are highly connected to both the data and the properties being missing.\n",
    "\n",
    "- There is a clear correlation between the cautions and the conclusive_document_quality_result column outputting consider.\n",
    "\n",
    "- There is no clear relation between the cautions and the properties available and I suspect that there might be related to non-collected parameters (e.g. race)."
   ]
  }
 ],
 "metadata": {
  "kernelspec": {
   "display_name": "Python [conda env:root] *",
   "language": "python",
   "name": "conda-root-py"
  },
  "language_info": {
   "codemirror_mode": {
    "name": "ipython",
    "version": 3
   },
   "file_extension": ".py",
   "mimetype": "text/x-python",
   "name": "python",
   "nbconvert_exporter": "python",
   "pygments_lexer": "ipython3",
   "version": "3.8.8"
  }
 },
 "nbformat": 4,
 "nbformat_minor": 5
}
